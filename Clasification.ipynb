{
 "cells": [
  {
   "cell_type": "markdown",
   "id": "af3e5bb0-2d12-4142-99e0-3c1622b7d594",
   "metadata": {},
   "source": [
    "# Kod do wygenerownia i porównania różnych modeli klasyfikacji (miara accuracy)"
   ]
  },
  {
   "cell_type": "code",
   "execution_count": 1,
   "id": "237fdb12-2d8f-42aa-b551-0026d7533861",
   "metadata": {},
   "outputs": [],
   "source": [
    "import pandas as pd\n",
    "import numpy as np\n",
    "import matplotlib.pyplot as plt\n",
    "import matplotlib\n",
    "np.random.seed = 42"
   ]
  },
  {
   "cell_type": "code",
   "execution_count": 2,
   "id": "09e38450-294d-43f9-86ce-223eef8e8dc7",
   "metadata": {},
   "outputs": [],
   "source": [
    "# Wczytanie danych\n",
    "train_data = pd.read_csv(\"train_data_with_features.csv\")\n",
    "test_data = pd.read_csv(\"test_data_with_features.csv\")"
   ]
  },
  {
   "cell_type": "code",
   "execution_count": 3,
   "id": "562af7ca-1402-4e94-8871-79fb6830a8d1",
   "metadata": {},
   "outputs": [],
   "source": [
    "# Przygotowanie cech i etykiet\n",
    "y_train = train_data['class']\n",
    "X_train = train_data.drop(['class', \"path\", \"filename\", \"R\", \"G\", \"B\", \"brightness\"], axis=1)\n",
    "y_test = test_data['class']\n",
    "X_test = test_data.drop(['class', \"path\", \"filename\", \"R\", \"G\", \"B\", \"brightness\"], axis=1)\n",
    "\n",
    "from sklearn.preprocessing import StandardScaler\n",
    "\n",
    "scaler = StandardScaler()\n",
    "X_train = scaler.fit_transform(X_train)\n",
    "X_test = scaler.transform(X_test)"
   ]
  },
  {
   "cell_type": "code",
   "execution_count": 4,
   "id": "10f774ac-9141-49d3-8ab7-2b82c0db3ce0",
   "metadata": {},
   "outputs": [],
   "source": [
    "from sklearn.tree import DecisionTreeClassifier\n",
    "from sklearn.neighbors import KNeighborsClassifier\n",
    "from sklearn.linear_model import LogisticRegression\n",
    "\n",
    "model1 = DecisionTreeClassifier()\n",
    "model2 = KNeighborsClassifier()\n",
    "model3 = LogisticRegression( max_iter=1000)\n",
    "estimators=[('DecisionTree', model1), ('KNN', model2), ('LR', model3)]"
   ]
  },
  {
   "cell_type": "markdown",
   "id": "8ce29fbd-a271-4951-8493-de26d590a8af",
   "metadata": {},
   "source": [
    "## SoftVote Weights"
   ]
  },
  {
   "cell_type": "code",
   "execution_count": 5,
   "id": "46af9d8d-92ef-4339-bdff-81e8fe53e9cf",
   "metadata": {},
   "outputs": [
    {
     "data": {
      "text/plain": [
       "0.90625"
      ]
     },
     "execution_count": 5,
     "metadata": {},
     "output_type": "execute_result"
    }
   ],
   "source": [
    "from sklearn.ensemble import VotingClassifier\n",
    "from sklearn.metrics import accuracy_score\n",
    "model_soft = VotingClassifier(estimators=estimators, voting='soft', weights=[0.15, 0.65, 0.20])\n",
    "model_soft.fit(X_train, y_train)\n",
    "\n",
    "y_hat = model_soft.predict(X_test)\n",
    "accuracy_score(y_test, y_hat)"
   ]
  },
  {
   "cell_type": "markdown",
   "id": "f368bb9d-8569-49f6-af57-ff769ff314a9",
   "metadata": {},
   "source": [
    "## Stacking"
   ]
  },
  {
   "cell_type": "code",
   "execution_count": 6,
   "id": "7b0693b4-f439-4c95-9c7b-4c072247f0e9",
   "metadata": {},
   "outputs": [],
   "source": [
    "from sklearn.ensemble import StackingClassifier"
   ]
  },
  {
   "cell_type": "code",
   "execution_count": 7,
   "id": "c0d0aac0-0d11-4cc0-95ee-ccb17199a63c",
   "metadata": {},
   "outputs": [
    {
     "data": {
      "text/plain": [
       "0.9114583333333334"
      ]
     },
     "execution_count": 7,
     "metadata": {},
     "output_type": "execute_result"
    }
   ],
   "source": [
    "clf = StackingClassifier(estimators=estimators, final_estimator=LogisticRegression())\n",
    "clf.fit(X_train, y_train).score(X_test, y_test)"
   ]
  },
  {
   "cell_type": "markdown",
   "id": "84539858-e51e-47a6-ae54-8b105bc9ad79",
   "metadata": {},
   "source": [
    "## Bootstrap Aggregating"
   ]
  },
  {
   "cell_type": "code",
   "execution_count": 8,
   "id": "e03419a5-5d56-4ed9-bb4a-c4db057fd708",
   "metadata": {},
   "outputs": [],
   "source": [
    "from sklearn.ensemble import BaggingClassifier"
   ]
  },
  {
   "cell_type": "code",
   "execution_count": 9,
   "id": "74d9f11f-7166-4f79-8024-c4614434d658",
   "metadata": {},
   "outputs": [
    {
     "data": {
      "text/plain": [
       "0.84375"
      ]
     },
     "execution_count": 9,
     "metadata": {},
     "output_type": "execute_result"
    }
   ],
   "source": [
    "clf = BaggingClassifier(estimator=model3,\n",
    "                        n_estimators=10, random_state=0)\n",
    "clf.fit(X_train, y_train)\n",
    "clf.score(X_test,y_test)"
   ]
  },
  {
   "cell_type": "markdown",
   "id": "c00cfe2b-415a-4292-a575-95b055482e78",
   "metadata": {},
   "source": [
    "## Boosting"
   ]
  },
  {
   "cell_type": "code",
   "execution_count": 10,
   "id": "987a296c-6c61-47b3-8a78-0f8dfee958ae",
   "metadata": {},
   "outputs": [
    {
     "data": {
      "text/plain": [
       "0.375"
      ]
     },
     "execution_count": 10,
     "metadata": {},
     "output_type": "execute_result"
    }
   ],
   "source": [
    "from sklearn.ensemble import AdaBoostClassifier\n",
    "\n",
    "model = AdaBoostClassifier()\n",
    "model.fit(X_train, y_train)\n",
    "model.score(X_test,y_test)"
   ]
  },
  {
   "cell_type": "markdown",
   "id": "029ffd2e-1f70-496b-83a4-2f8bde4cb848",
   "metadata": {},
   "source": [
    "## Gradient Boosting"
   ]
  },
  {
   "cell_type": "code",
   "execution_count": 11,
   "id": "93ddcf60-b24c-4321-9a8f-f5aa879b1b5e",
   "metadata": {},
   "outputs": [
    {
     "data": {
      "text/plain": [
       "0.8541666666666666"
      ]
     },
     "execution_count": 11,
     "metadata": {},
     "output_type": "execute_result"
    }
   ],
   "source": [
    "from sklearn.ensemble import GradientBoostingClassifier\n",
    "\n",
    "model = GradientBoostingClassifier(random_state=1,\n",
    "                                  learning_rate=0.01) # Szybkość \"uczenia\" się \n",
    "model.fit(X_train, y_train)\n",
    "model.score(X_test,y_test)"
   ]
  },
  {
   "cell_type": "code",
   "execution_count": 12,
   "id": "4148e6d0-8a10-4dbf-8b7e-e618699b996c",
   "metadata": {},
   "outputs": [
    {
     "name": "stdout",
     "output_type": "stream",
     "text": [
      "Dokładność modelu: 0.8750\n"
     ]
    }
   ],
   "source": [
    "from sklearn.preprocessing import LabelEncoder\n",
    "from xgboost import XGBClassifier\n",
    "\n",
    "# Inicjalizacja LabelEncoder\n",
    "label_encoder = LabelEncoder()\n",
    "\n",
    "# Zakodowanie etykiet na liczby\n",
    "y_train_encoded = label_encoder.fit_transform(y_train)\n",
    "y_test_encoded = label_encoder.transform(y_test)\n",
    "\n",
    "# Inicjalizacja modelu XGBClassifier\n",
    "model = XGBClassifier(random_state=1,\n",
    "                      learning_rate=0.01, \n",
    "                      booster='gbtree', \n",
    "                      max_depth=4)\n",
    "\n",
    "# Trenowanie modelu\n",
    "model.fit(X_train, y_train_encoded)\n",
    "\n",
    "# Predykcja\n",
    "y_pred = model.predict(X_test)\n",
    "\n",
    "# Ocena dokładności\n",
    "accuracy = accuracy_score(y_test_encoded, y_pred)\n",
    "print(f\"Dokładność modelu: {accuracy:.4f}\")"
   ]
  },
  {
   "cell_type": "code",
   "execution_count": null,
   "id": "160a4b40-c365-4427-a977-af9195d93426",
   "metadata": {},
   "outputs": [],
   "source": []
  },
  {
   "cell_type": "code",
   "execution_count": 13,
   "id": "e1754b71-ace6-47cd-8acf-ce591158f87d",
   "metadata": {},
   "outputs": [],
   "source": [
    "from sklearn.svm import SVC\n",
    "from sklearn.naive_bayes import GaussianNB\n",
    "from sklearn.model_selection import RepeatedStratifiedKFold\n",
    "from sklearn.model_selection import cross_val_score\n",
    "from sklearn.ensemble import StackingClassifier\n",
    "from matplotlib import pyplot\n",
    "import warnings\n",
    "from sklearn.ensemble import RandomForestClassifier\n",
    "warnings.filterwarnings('ignore')"
   ]
  },
  {
   "cell_type": "code",
   "execution_count": 14,
   "id": "33e7840e-2527-4741-914a-53ab30e4243c",
   "metadata": {},
   "outputs": [],
   "source": [
    "# przygotowanie stacking\n",
    "def get_stacking():\n",
    "    \n",
    "    # define the base models\n",
    "    level0 = list()\n",
    "    level0.append(('lr', LogisticRegression()))\n",
    "    level0.append(('cart', DecisionTreeClassifier(random_state=1)))\n",
    "    level0.append(('rf', RandomForestClassifier(n_estimators=1000, # Ilość słabych estymatorów\n",
    "                                      max_depth=2, # Maksymalna wysokość drzewa w słabym estymatorze\n",
    "                                      min_samples_split = 2, # Minimalna ilość obserwacji wymagana do podziału węzła\n",
    "                                      max_features = 3, # Maksymalna ilość zmiennych brana pod uwagę przy podziale węzła\n",
    "                                      random_state=0,\n",
    "                                      n_jobs = -1)))\n",
    "    level0.append(('aboost', AdaBoostClassifier(random_state=1)))\n",
    "    level0.append(('gboost', GradientBoostingClassifier(random_state=1,\n",
    "                                      learning_rate=0.01)))\n",
    "    level0.append(('xgb', XGBClassifier(random_state=1,\n",
    "                        learning_rate=0.01, # Szybkość \"uczenia\" się\n",
    "                        booster='gbtree', # Jaki model wykorzystujemy (drzewo - gbtree, liniowe - gblinear)\n",
    "                        max_depth=4 # Maksymalna głębokość drzewa \n",
    "                        )))\n",
    "    level0.append(('svm', SVC()))\n",
    "    level0.append(('bayes', GaussianNB()))\n",
    "    \n",
    "    # definicja meta learner model\n",
    "    level1 = LogisticRegression()\n",
    "    \n",
    "    # definicja stacking ensemble\n",
    "    model = StackingClassifier(estimators=level0, final_estimator=level1, cv=5)\n",
    "    \n",
    "    return model"
   ]
  },
  {
   "cell_type": "code",
   "execution_count": 15,
   "id": "4d514537-c564-4c88-ba9d-1ec5ad4c4632",
   "metadata": {},
   "outputs": [],
   "source": [
    "# lista modeli\n",
    "def get_models():\n",
    "    \n",
    "    models = dict()\n",
    "    models['lr'] = LogisticRegression()\n",
    "    models['cart'] = DecisionTreeClassifier()\n",
    "    models['rf'] = RandomForestClassifier(n_estimators=1000, # Ilość słabych estymatorów\n",
    "                                      max_depth=2, # Maksymalna wysokość drzewa w słabym estymatorze\n",
    "                                      min_samples_split = 2, # Minimalna ilość obserwacji wymagana do podziału węzła\n",
    "                                      max_features = 3, # Maksymalna ilość zmiennych brana pod uwagę przy podziale węzła\n",
    "                                      random_state=0,\n",
    "                                      n_jobs = -1)\n",
    "    models['aboost'] = AdaBoostClassifier(random_state=1)\n",
    "    models['gboost'] = GradientBoostingClassifier(random_state=1,\n",
    "                                      learning_rate=0.01)\n",
    "    models['xgb'] = XGBClassifier(random_state=1,\n",
    "                        learning_rate=0.01, # Szybkość \"uczenia\" się\n",
    "                        booster='gbtree', # Jaki model wykorzystujemy (drzewo - gbtree, liniowe - gblinear)\n",
    "                        max_depth=4 # Maksymalna głębokość drzewa \n",
    "                        )\n",
    "    models['svm'] = SVC()\n",
    "    models['bayes'] = GaussianNB()\n",
    "    models['stacking'] = get_stacking()\n",
    "\n",
    "    return models"
   ]
  },
  {
   "cell_type": "code",
   "execution_count": 16,
   "id": "cd7d5c37-9827-470a-a202-5d5d2e24be67",
   "metadata": {},
   "outputs": [],
   "source": [
    "# ocena modeli przy wykorzystaniu cross-validation\n",
    "def evaluate_model(model, X, y):\n",
    "    \n",
    "    cv = RepeatedStratifiedKFold(n_splits=10, n_repeats=3, random_state=1)\n",
    "    scores = cross_val_score(model, X, y, scoring='accuracy', cv=cv, n_jobs=-1, error_score='raise')\n",
    "\n",
    "    return scores\n"
   ]
  },
  {
   "cell_type": "markdown",
   "id": "7caf620c-f5b6-4ebc-b0ac-93a287c7e64d",
   "metadata": {},
   "source": [
    "### uwaga! może zająć dużo czasu"
   ]
  },
  {
   "cell_type": "code",
   "execution_count": 17,
   "id": "c040cd21-71cf-42da-b81f-81cbd436c2c6",
   "metadata": {},
   "outputs": [
    {
     "name": "stdout",
     "output_type": "stream",
     "text": [
      "      lr mean-0.741 std-0.074\n",
      "    cart mean-0.698 std-0.077\n",
      "      rf mean-0.640 std-0.088\n",
      "  aboost mean-0.285 std-0.088\n",
      "  gboost mean-0.726 std-0.091\n",
      "     xgb mean-0.703 std-0.086\n",
      "     svm mean-0.636 std-0.083\n",
      "   bayes mean-0.639 std-0.080\n",
      "stacking mean-0.687 std-0.082\n"
     ]
    }
   ],
   "source": [
    "# modele do evaluacji\n",
    "models = get_models()\n",
    "\n",
    "# Zakodowanie etykiet na liczby\n",
    "y_encoded = label_encoder.fit_transform(y_test)\n",
    "X=X_test\n",
    "\n",
    "# ocena modeli\n",
    "results, names = list(), list()\n",
    "for name, model in models.items():\n",
    "    scores = evaluate_model(model, X, y_encoded)\n",
    "    results.append(scores)\n",
    "    names.append(name)\n",
    "    print('%8s mean-%.3f std-%.3f' % (name, np.mean(scores), np.std(scores)))"
   ]
  },
  {
   "cell_type": "code",
   "execution_count": 18,
   "id": "c71c9505-6e47-45e6-af39-f7fa8cc6e9c6",
   "metadata": {},
   "outputs": [
    {
     "data": {
      "image/png": "[encoded data removed]",
      "text/plain": [
       "<Figure size 640x480 with 1 Axes>"
      ]
     },
     "metadata": {},
     "output_type": "display_data"
    }
   ],
   "source": [
    "# plot acc dla modeli i stacking\n",
    "pyplot.boxplot(results, labels=names, showmeans=True)\n",
    "pyplot.show()"
   ]
  },
  {
   "cell_type": "markdown",
   "id": "a59ead7d-7115-4cb7-b6fa-ee799fbc1dff",
   "metadata": {},
   "source": [
    "# Do sprawdzenia istotności cech"
   ]
  },
  {
   "cell_type": "code",
   "execution_count": 19,
   "id": "0927222b-2f16-4a3b-ba93-49b670f79a87",
   "metadata": {},
   "outputs": [
    {
     "data": {
      "text/html": [
       "<style>#sk-container-id-1 {color: black;}#sk-container-id-1 pre{padding: 0;}#sk-container-id-1 div.sk-toggleable {background-color: white;}#sk-container-id-1 label.sk-toggleable__label {cursor: pointer;display: block;width: 100%;margin-bottom: 0;padding: 0.3em;box-sizing: border-box;text-align: center;}#sk-container-id-1 label.sk-toggleable__label-arrow:before {content: \"▸\";float: left;margin-right: 0.25em;color: #696969;}#sk-container-id-1 label.sk-toggleable__label-arrow:hover:before {color: black;}#sk-container-id-1 div.sk-estimator:hover label.sk-toggleable__label-arrow:before {color: black;}#sk-container-id-1 div.sk-toggleable__content {max-height: 0;max-width: 0;overflow: hidden;text-align: left;background-color: #f0f8ff;}#sk-container-id-1 div.sk-toggleable__content pre {margin: 0.2em;color: black;border-radius: 0.25em;background-color: #f0f8ff;}#sk-container-id-1 input.sk-toggleable__control:checked~div.sk-toggleable__content {max-height: 200px;max-width: 100%;overflow: auto;}#sk-container-id-1 input.sk-toggleable__control:checked~label.sk-toggleable__label-arrow:before {content: \"▾\";}#sk-container-id-1 div.sk-estimator input.sk-toggleable__control:checked~label.sk-toggleable__label {background-color: #d4ebff;}#sk-container-id-1 div.sk-label input.sk-toggleable__control:checked~label.sk-toggleable__label {background-color: #d4ebff;}#sk-container-id-1 input.sk-hidden--visually {border: 0;clip: rect(1px 1px 1px 1px);clip: rect(1px, 1px, 1px, 1px);height: 1px;margin: -1px;overflow: hidden;padding: 0;position: absolute;width: 1px;}#sk-container-id-1 div.sk-estimator {font-family: monospace;background-color: #f0f8ff;border: 1px dotted black;border-radius: 0.25em;box-sizing: border-box;margin-bottom: 0.5em;}#sk-container-id-1 div.sk-estimator:hover {background-color: #d4ebff;}#sk-container-id-1 div.sk-parallel-item::after {content: \"\";width: 100%;border-bottom: 1px solid gray;flex-grow: 1;}#sk-container-id-1 div.sk-label:hover label.sk-toggleable__label {background-color: #d4ebff;}#sk-container-id-1 div.sk-serial::before {content: \"\";position: absolute;border-left: 1px solid gray;box-sizing: border-box;top: 0;bottom: 0;left: 50%;z-index: 0;}#sk-container-id-1 div.sk-serial {display: flex;flex-direction: column;align-items: center;background-color: white;padding-right: 0.2em;padding-left: 0.2em;position: relative;}#sk-container-id-1 div.sk-item {position: relative;z-index: 1;}#sk-container-id-1 div.sk-parallel {display: flex;align-items: stretch;justify-content: center;background-color: white;position: relative;}#sk-container-id-1 div.sk-item::before, #sk-container-id-1 div.sk-parallel-item::before {content: \"\";position: absolute;border-left: 1px solid gray;box-sizing: border-box;top: 0;bottom: 0;left: 50%;z-index: -1;}#sk-container-id-1 div.sk-parallel-item {display: flex;flex-direction: column;z-index: 1;position: relative;background-color: white;}#sk-container-id-1 div.sk-parallel-item:first-child::after {align-self: flex-end;width: 50%;}#sk-container-id-1 div.sk-parallel-item:last-child::after {align-self: flex-start;width: 50%;}#sk-container-id-1 div.sk-parallel-item:only-child::after {width: 0;}#sk-container-id-1 div.sk-dashed-wrapped {border: 1px dashed gray;margin: 0 0.4em 0.5em 0.4em;box-sizing: border-box;padding-bottom: 0.4em;background-color: white;}#sk-container-id-1 div.sk-label label {font-family: monospace;font-weight: bold;display: inline-block;line-height: 1.2em;}#sk-container-id-1 div.sk-label-container {text-align: center;}#sk-container-id-1 div.sk-container {/* jupyter's `normalize.less` sets `[hidden] { display: none; }` but bootstrap.min.css set `[hidden] { display: none !important; }` so we also need the `!important` here to be able to override the default hidden behavior on the sphinx rendered scikit-learn.org. See: https://github.com/scikit-learn/scikit-learn/issues/21755 */display: inline-block !important;position: relative;}#sk-container-id-1 div.sk-text-repr-fallback {display: none;}</style><div id=\"sk-container-id-1\" class=\"sk-top-container\"><div class=\"sk-text-repr-fallback\"><pre>RandomForestClassifier(max_depth=7)</pre><b>In a Jupyter environment, please rerun this cell to show the HTML representation or trust the notebook. <br />On GitHub, the HTML representation is unable to render, please try loading this page with nbviewer.org.</b></div><div class=\"sk-container\" hidden><div class=\"sk-item\"><div class=\"sk-estimator sk-toggleable\"><input class=\"sk-toggleable__control sk-hidden--visually\" id=\"sk-estimator-id-1\" type=\"checkbox\" checked><label for=\"sk-estimator-id-1\" class=\"sk-toggleable__label sk-toggleable__label-arrow\">RandomForestClassifier</label><div class=\"sk-toggleable__content\"><pre>RandomForestClassifier(max_depth=7)</pre></div></div></div></div></div>"
      ],
      "text/plain": [
       "RandomForestClassifier(max_depth=7)"
      ]
     },
     "execution_count": 19,
     "metadata": {},
     "output_type": "execute_result"
    }
   ],
   "source": [
    "clf = RandomForestClassifier(n_estimators=100,  max_depth=7)\n",
    "clf.fit(X_train, y_train)"
   ]
  },
  {
   "cell_type": "code",
   "execution_count": 20,
   "id": "af530d21-ec56-42ac-89a9-e5002b6b9648",
   "metadata": {},
   "outputs": [
    {
     "name": "stdout",
     "output_type": "stream",
     "text": [
      "Dokładność modelu: 0.8958\n",
      "Raport klasyfikacji:\n",
      "                       precision    recall  f1-score   support\n",
      "\n",
      "      Bombali Ghevda       0.83      0.62      0.71        16\n",
      "        Butka Ghevda       0.94      1.00      0.97        16\n",
      "       Gabara Ghevda       1.00      1.00      1.00        16\n",
      "             God Wal       0.74      0.88      0.80        16\n",
      "          Hirva Lamb       0.93      0.88      0.90        16\n",
      "            Kadu wal       0.75      0.94      0.83        16\n",
      "            Kala Wal       0.89      1.00      0.94        16\n",
      "     Lal lamb shenga       0.87      0.81      0.84        16\n",
      "Lamb Shiracha Ghevda       0.93      0.88      0.90        16\n",
      "      Shravan Ghevda       1.00      0.88      0.93        16\n",
      "          Tambda wal       1.00      1.00      1.00        16\n",
      "       Vatana Ghevda       0.93      0.88      0.90        16\n",
      "\n",
      "            accuracy                           0.90       192\n",
      "           macro avg       0.90      0.90      0.90       192\n",
      "        weighted avg       0.90      0.90      0.90       192\n",
      "\n"
     ]
    }
   ],
   "source": [
    "from sklearn.metrics import classification_report\n",
    "y_pred = clf.predict(X_test)\n",
    "\n",
    "# Ocena modelu\n",
    "accuracy = accuracy_score(y_test, y_pred)\n",
    "report = classification_report(y_test, y_pred, target_names=label_encoder.classes_)\n",
    "\n",
    "print(f\"Dokładność modelu: {accuracy:.4f}\")\n",
    "print(\"Raport klasyfikacji:\\n\", report)"
   ]
  },
  {
   "cell_type": "code",
   "execution_count": 21,
   "id": "43d4c795-6eb4-4430-b125-734f47559089",
   "metadata": {},
   "outputs": [
    {
     "data": {
      "image/png": "[encoded data removed]",
      "text/plain": [
       "<Figure size 1200x600 with 1 Axes>"
      ]
     },
     "metadata": {},
     "output_type": "display_data"
    }
   ],
   "source": [
    "import seaborn as sns\n",
    "# Tworzymy DataFrame z istotnościami\n",
    "feature_importance = pd.DataFrame({\n",
    "    'Feature': train_data.drop(['class', \"path\", \"filename\", \"R\", \"G\", \"B\", \"brightness\"],axis=1).columns,\n",
    "    'Importance': clf.feature_importances_\n",
    "}).sort_values(by='Importance', ascending=False)\n",
    "\n",
    "# Wykres\n",
    "plt.figure(figsize=(12, 6))\n",
    "sns.barplot(data=feature_importance, x='Importance', y='Feature', palette='viridis')\n",
    "plt.title('Istotność cech według Random Forest')\n",
    "plt.tight_layout()\n",
    "plt.show()"
   ]
  },
  {
   "cell_type": "code",
   "execution_count": null,
   "id": "7d687425-db81-49e3-98af-eb3e32d132fe",
   "metadata": {},
   "outputs": [],
   "source": []
  },
  {
   "cell_type": "code",
   "execution_count": null,
   "id": "219061c6-8f54-4be2-a026-ca236cdc76b7",
   "metadata": {},
   "outputs": [],
   "source": []
  }
 ],
 "metadata": {
  "kernelspec": {
   "display_name": "Python 3 (ipykernel)",
   "language": "python",
   "name": "python3"
  },
  "language_info": {
   "codemirror_mode": {
    "name": "ipython",
    "version": 3
   },
   "file_extension": ".py",
   "mimetype": "text/x-python",
   "name": "python",
   "nbconvert_exporter": "python",
   "pygments_lexer": "ipython3",
   "version": "3.11.11"
  }
 },
 "nbformat": 4,
 "nbformat_minor": 5
}
