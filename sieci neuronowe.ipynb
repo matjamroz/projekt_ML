{
 "cells": [
  {
   "cell_type": "code",
   "execution_count": null,
   "id": "ef9156c5",
   "metadata": {},
   "outputs": [],
   "source": [
    "\n"
   ]
  },
  {
   "cell_type": "code",
   "execution_count": 1,
   "id": "de218d17",
   "metadata": {},
   "outputs": [],
   "source": [
    "import os\n",
    "import numpy as np\n",
    "import pandas as pd\n",
    "import tensorflow as tf\n",
    "from tensorflow.keras import layers, models\n",
    "from sklearn.model_selection import StratifiedKFold, train_test_split\n",
    "from sklearn.ensemble import RandomForestClassifier\n",
    "from sklearn.preprocessing import StandardScaler, LabelEncoder\n",
    "from sklearn.metrics import accuracy_score, classification_report\n",
    "from tensorflow.keras.utils import to_categorical\n",
    "import cv2\n",
    "from collections import defaultdict\n",
    "import matplotlib.pyplot as plt\n",
    "import random\n",
    "from PIL import Image\n",
    "from tensorflow.keras import regularizers\n",
    "\n",
    "\n"
   ]
  },
  {
   "cell_type": "code",
   "execution_count": 2,
   "id": "0d1349a6",
   "metadata": {},
   "outputs": [],
   "source": [
    "# Wczytanie danych\n",
    "train_data = pd.read_csv(\"train_data_with_features.csv\")\n",
    "test_data = pd.read_csv(\"test_data_with_features.csv\")"
   ]
  },
  {
   "cell_type": "code",
   "execution_count": 3,
   "id": "33300575",
   "metadata": {},
   "outputs": [],
   "source": [
    "# Przygotowanie cech i etykiet\n",
    "y_train_val = train_data['class']\n",
    "X_train_val = train_data.drop(['class', \"path\", \"filename\", \"R\", \"G\", \"B\", \"brightness\"], axis=1)\n",
    "y_test = test_data['class']\n",
    "X_test = test_data.drop(['class', \"path\", \"filename\", \"R\", \"G\", \"B\", \"brightness\"], axis=1)\n",
    "\n",
    "\n",
    "scaler = StandardScaler()\n",
    "X_train_val = scaler.fit_transform(X_train_val)\n",
    "X_test = scaler.transform(X_test)"
   ]
  },
  {
   "cell_type": "code",
   "execution_count": 4,
   "id": "6a493cf7",
   "metadata": {},
   "outputs": [],
   "source": [
    "# Konwersja etykiet na wartości liczbowe\n",
    "label_encoder = LabelEncoder()\n",
    "y_encoded = label_encoder.fit_transform(y_train_val)\n",
    "\n"
   ]
  },
  {
   "cell_type": "code",
   "execution_count": 5,
   "id": "1cf5ccb9",
   "metadata": {},
   "outputs": [],
   "source": [
    "# Definicja 5-krotnej walidacji krzyżowej\n",
    "skf = StratifiedKFold(n_splits=5, shuffle=True, random_state=42)\n",
    "\n",
    "accuracies = []\n",
    "reports = []"
   ]
  },
  {
   "cell_type": "code",
   "execution_count": 6,
   "id": "8fc30304",
   "metadata": {},
   "outputs": [
    {
     "name": "stdout",
     "output_type": "stream",
     "text": [
      "Fold 1\n",
      "Dokładność (walidacja): 0.8952\n",
      "Raport klasyfikacji:\n",
      "                       precision    recall  f1-score   support\n",
      "\n",
      "      Bombali Ghevda       0.78      0.69      0.73       136\n",
      "        Butka Ghevda       0.97      0.98      0.97       136\n",
      "       Gabara Ghevda       0.98      0.98      0.98       136\n",
      "             God Wal       0.68      0.77      0.72       136\n",
      "          Hirva Lamb       0.92      0.90      0.91       136\n",
      "            Kadu wal       0.79      0.98      0.88       136\n",
      "            Kala Wal       0.94      0.92      0.93       136\n",
      "     Lal lamb shenga       0.86      0.88      0.87       136\n",
      "Lamb Shiracha Ghevda       0.93      0.93      0.93       136\n",
      "      Shravan Ghevda       1.00      0.93      0.96       135\n",
      "          Tambda wal       1.00      1.00      1.00       136\n",
      "       Vatana Ghevda       0.96      0.79      0.86       136\n",
      "\n",
      "            accuracy                           0.90      1631\n",
      "           macro avg       0.90      0.90      0.90      1631\n",
      "        weighted avg       0.90      0.90      0.90      1631\n",
      "\n",
      "--------------------------------------------------\n",
      "Fold 2\n",
      "Dokładność (walidacja): 0.9068\n",
      "Raport klasyfikacji:\n",
      "                       precision    recall  f1-score   support\n",
      "\n",
      "      Bombali Ghevda       0.79      0.70      0.74       136\n",
      "        Butka Ghevda       0.99      0.99      0.99       136\n",
      "       Gabara Ghevda       0.98      0.96      0.97       136\n",
      "             God Wal       0.66      0.75      0.70       136\n",
      "          Hirva Lamb       0.98      0.93      0.96       136\n",
      "            Kadu wal       0.82      0.97      0.89       135\n",
      "            Kala Wal       0.95      0.93      0.94       136\n",
      "     Lal lamb shenga       0.85      0.95      0.90       136\n",
      "Lamb Shiracha Ghevda       0.95      0.91      0.93       136\n",
      "      Shravan Ghevda       1.00      0.96      0.98       136\n",
      "          Tambda wal       1.00      1.00      1.00       136\n",
      "       Vatana Ghevda       0.97      0.82      0.89       136\n",
      "\n",
      "            accuracy                           0.91      1631\n",
      "           macro avg       0.91      0.91      0.91      1631\n",
      "        weighted avg       0.91      0.91      0.91      1631\n",
      "\n",
      "--------------------------------------------------\n",
      "Fold 3\n",
      "Dokładność (walidacja): 0.9019\n",
      "Raport klasyfikacji:\n",
      "                       precision    recall  f1-score   support\n",
      "\n",
      "      Bombali Ghevda       0.84      0.72      0.77       136\n",
      "        Butka Ghevda       0.97      0.96      0.96       136\n",
      "       Gabara Ghevda       0.97      0.95      0.96       136\n",
      "             God Wal       0.72      0.81      0.76       136\n",
      "          Hirva Lamb       0.93      0.89      0.91       136\n",
      "            Kadu wal       0.80      0.97      0.88       135\n",
      "            Kala Wal       0.94      0.98      0.96       136\n",
      "     Lal lamb shenga       0.84      0.90      0.87       136\n",
      "Lamb Shiracha Ghevda       0.94      0.89      0.91       136\n",
      "      Shravan Ghevda       0.99      0.90      0.94       136\n",
      "          Tambda wal       1.00      0.99      1.00       136\n",
      "       Vatana Ghevda       0.93      0.87      0.90       136\n",
      "\n",
      "            accuracy                           0.90      1631\n",
      "           macro avg       0.91      0.90      0.90      1631\n",
      "        weighted avg       0.91      0.90      0.90      1631\n",
      "\n",
      "--------------------------------------------------\n",
      "Fold 4\n",
      "Dokładność (walidacja): 0.9050\n",
      "Raport klasyfikacji:\n",
      "                       precision    recall  f1-score   support\n",
      "\n",
      "      Bombali Ghevda       0.75      0.71      0.73       136\n",
      "        Butka Ghevda       0.97      0.99      0.98       136\n",
      "       Gabara Ghevda       0.99      0.98      0.99       135\n",
      "             God Wal       0.67      0.76      0.71       136\n",
      "          Hirva Lamb       0.97      0.93      0.95       136\n",
      "            Kadu wal       0.81      0.92      0.86       136\n",
      "            Kala Wal       0.94      0.96      0.95       136\n",
      "     Lal lamb shenga       0.90      0.92      0.91       136\n",
      "Lamb Shiracha Ghevda       0.95      0.93      0.94       136\n",
      "      Shravan Ghevda       1.00      0.94      0.97       136\n",
      "          Tambda wal       1.00      1.00      1.00       136\n",
      "       Vatana Ghevda       0.97      0.82      0.88       136\n",
      "\n",
      "            accuracy                           0.90      1631\n",
      "           macro avg       0.91      0.91      0.91      1631\n",
      "        weighted avg       0.91      0.90      0.91      1631\n",
      "\n",
      "--------------------------------------------------\n",
      "Fold 5\n",
      "Dokładność (walidacja): 0.9001\n",
      "Raport klasyfikacji:\n",
      "                       precision    recall  f1-score   support\n",
      "\n",
      "      Bombali Ghevda       0.76      0.68      0.72       136\n",
      "        Butka Ghevda       0.96      0.99      0.97       136\n",
      "       Gabara Ghevda       0.98      0.97      0.97       135\n",
      "             God Wal       0.66      0.71      0.68       136\n",
      "          Hirva Lamb       0.96      0.89      0.92       136\n",
      "            Kadu wal       0.77      0.99      0.86       136\n",
      "            Kala Wal       0.98      0.98      0.98       136\n",
      "     Lal lamb shenga       0.87      0.96      0.92       136\n",
      "Lamb Shiracha Ghevda       0.97      0.92      0.94       136\n",
      "      Shravan Ghevda       1.00      0.92      0.96       136\n",
      "          Tambda wal       1.00      1.00      1.00       136\n",
      "       Vatana Ghevda       0.96      0.80      0.88       136\n",
      "\n",
      "            accuracy                           0.90      1631\n",
      "           macro avg       0.91      0.90      0.90      1631\n",
      "        weighted avg       0.91      0.90      0.90      1631\n",
      "\n",
      "--------------------------------------------------\n"
     ]
    }
   ],
   "source": [
    "# Iteracja po podziałach walidacji krzyżowej\n",
    "for fold, (train_idx, val_idx) in enumerate(skf.split(X_train_val, y_train_val)):\n",
    "    print(f\"Fold {fold + 1}\")\n",
    "    X_train, X_val = X_train_val[train_idx], X_train_val[val_idx]\n",
    "    y_train, y_val = y_train_val[train_idx], y_train_val[val_idx]\n",
    "    \n",
    "    # Tworzenie i trenowanie modelu\n",
    "    clf = RandomForestClassifier(n_estimators=100, random_state=42,max_depth=7)\n",
    "    clf.fit(X_train, y_train)\n",
    "    \n",
    "    # Predykcja\n",
    "    y_pred = clf.predict(X_val)\n",
    "    \n",
    "    # Ewaluacja\n",
    "    accuracy = accuracy_score(y_val, y_pred)\n",
    "    accuracies.append(accuracy)\n",
    "    report = classification_report(y_val, y_pred, target_names=label_encoder.classes_)\n",
    "    reports.append(report)\n",
    "    \n",
    "    print(f\"Dokładność (walidacja): {accuracy:.4f}\")\n",
    "    print(\"Raport klasyfikacji:\\n\", report)\n",
    "    print(\"-\" * 50)\n",
    "\n"
   ]
  },
  {
   "cell_type": "code",
   "execution_count": 7,
   "id": "dc598bcf",
   "metadata": {},
   "outputs": [],
   "source": [
    "# Ostateczna ewaluacja na zbiorze testowym\n",
    "final_model = RandomForestClassifier(n_estimators=100, random_state=42)\n",
    "final_model.fit(X_train_val, y_train_val)\n",
    "y_test_pred = final_model.predict(X_test)\n",
    "\n"
   ]
  },
  {
   "cell_type": "code",
   "execution_count": 8,
   "id": "d95c1981",
   "metadata": {},
   "outputs": [],
   "source": [
    "test_accuracy = accuracy_score(y_test, y_test_pred)\n",
    "test_report = classification_report(y_test, y_test_pred, target_names=label_encoder.classes_)\n",
    "\n"
   ]
  },
  {
   "cell_type": "code",
   "execution_count": 9,
   "id": "1467dbe0",
   "metadata": {},
   "outputs": [
    {
     "name": "stdout",
     "output_type": "stream",
     "text": [
      "Średnia dokładność na walidacji: 0.9018\n",
      "Dokładność na zbiorze testowym: 0.9653\n",
      "Raport klasyfikacji na zbiorze testowym:\n",
      "                       precision    recall  f1-score   support\n",
      "\n",
      "      Bombali Ghevda       1.00      1.00      1.00        12\n",
      "        Butka Ghevda       1.00      1.00      1.00        12\n",
      "       Gabara Ghevda       1.00      1.00      1.00        12\n",
      "             God Wal       1.00      0.83      0.91        12\n",
      "          Hirva Lamb       1.00      0.92      0.96        12\n",
      "            Kadu wal       0.80      1.00      0.89        12\n",
      "            Kala Wal       0.92      1.00      0.96        12\n",
      "     Lal lamb shenga       1.00      0.92      0.96        12\n",
      "Lamb Shiracha Ghevda       0.92      1.00      0.96        12\n",
      "      Shravan Ghevda       1.00      1.00      1.00        12\n",
      "          Tambda wal       1.00      1.00      1.00        12\n",
      "       Vatana Ghevda       1.00      0.92      0.96        12\n",
      "\n",
      "            accuracy                           0.97       144\n",
      "           macro avg       0.97      0.97      0.97       144\n",
      "        weighted avg       0.97      0.97      0.97       144\n",
      "\n"
     ]
    }
   ],
   "source": [
    "print(f\"Średnia dokładność na walidacji: {np.mean(accuracies):.4f}\")\n",
    "print(f\"Dokładność na zbiorze testowym: {test_accuracy:.4f}\")\n",
    "print(\"Raport klasyfikacji na zbiorze testowym:\\n\", test_report)"
   ]
  },
  {
   "cell_type": "code",
   "execution_count": 10,
   "id": "662f0fbe",
   "metadata": {},
   "outputs": [],
   "source": [
    "y_one_hot = to_categorical(y_encoded)\n"
   ]
  },
  {
   "cell_type": "code",
   "execution_count": 11,
   "id": "3d4a7f92",
   "metadata": {},
   "outputs": [],
   "source": [
    "scaler = StandardScaler()\n",
    "X_scaled = scaler.fit_transform(X_train_val)"
   ]
  },
  {
   "cell_type": "code",
   "execution_count": 12,
   "id": "a83482f6",
   "metadata": {},
   "outputs": [
    {
     "name": "stderr",
     "output_type": "stream",
     "text": [
      "C:\\Users\\User\\AppData\\Roaming\\Python\\Python311\\site-packages\\keras\\src\\layers\\core\\dense.py:87: UserWarning: Do not pass an `input_shape`/`input_dim` argument to a layer. When using Sequential models, prefer using an `Input(shape)` object as the first layer in the model instead.\n",
      "  super().__init__(activity_regularizer=activity_regularizer, **kwargs)\n"
     ]
    }
   ],
   "source": [
    "mlp_accuracies = []\n",
    "\n",
    "for train_idx, val_idx in skf.split(X_scaled, y_encoded):\n",
    "    X_train, X_val = X_scaled[train_idx], X_scaled[val_idx]\n",
    "    y_train, y_val = y_one_hot[train_idx], y_one_hot[val_idx]\n",
    "    \n",
    "    mlp_model = models.Sequential([\n",
    "        layers.Dense(64, activation='relu', input_shape=(X_train.shape[1],)),\n",
    "        layers.Dense(64, activation='relu'),\n",
    "        layers.Dense(len(np.unique(y_train_val)), activation='softmax')\n",
    "    ])\n",
    "    \n",
    "    mlp_model.compile(optimizer='adam', loss='categorical_crossentropy', metrics=['accuracy'])\n",
    "    mlp_model.fit(X_train, y_train, epochs=10, validation_data=(X_val, y_val), batch_size=32, verbose=0)\n",
    "    \n",
    "    val_accuracy = mlp_model.evaluate(X_val, y_val, verbose=0)[1]\n",
    "    mlp_accuracies.append(val_accuracy)\n",
    "    \n"
   ]
  },
  {
   "cell_type": "code",
   "execution_count": 13,
   "id": "2a85c3bb",
   "metadata": {},
   "outputs": [
    {
     "name": "stdout",
     "output_type": "stream",
     "text": [
      "Średnia dokładność MLP: 0.9180\n"
     ]
    }
   ],
   "source": [
    "print(f\"Średnia dokładność MLP: {np.mean(mlp_accuracies):.4f}\")"
   ]
  },
  {
   "cell_type": "code",
   "execution_count": 14,
   "id": "a9455bc1",
   "metadata": {},
   "outputs": [],
   "source": [
    "data_path = \"Dataset_split/train\"\n",
    "data_images = []\n",
    "labels = []\n",
    "image_size=(100, 70)\n",
    "\n",
    "\n",
    "for class_folder in os.listdir(data_path):  \n",
    "    class_path = os.path.join(data_path, class_folder)\n",
    "    if os.path.isdir(class_path):  \n",
    "        for file in os.listdir(class_path):  \n",
    "            if file.lower().endswith(('.jpg', '.jpeg', '.png')):  \n",
    "                img = cv2.imread(os.path.join(class_path, file))  # Wczytanie obrazu w kolorze\n",
    "                img = cv2.cvtColor(img, cv2.COLOR_BGR2RGB)  # Konwersja z BGR do RGB\n",
    "                img = cv2.resize(img, image_size)\n",
    "                data_images.append(img)\n",
    "                labels.append(class_folder)\n",
    "\n",
    "\n"
   ]
  },
  {
   "cell_type": "code",
   "execution_count": 15,
   "id": "08c889d9",
   "metadata": {},
   "outputs": [],
   "source": [
    "X_images = np.array(data_images) / 255.0  # Normalizacja\n",
    "\n",
    "label_encoder_images = LabelEncoder()\n",
    "y_images = label_encoder_images.fit_transform(labels)\n",
    "y_images_one_hot = to_categorical(y_images)"
   ]
  },
  {
   "cell_type": "code",
   "execution_count": 16,
   "id": "a0eb18d9",
   "metadata": {},
   "outputs": [],
   "source": [
    "# 5-krotna walidacja krzyżowa dla CNN\n",
    "cnn_accuracies = []\n",
    "skf = StratifiedKFold(n_splits=5, shuffle=True, random_state=42)\n",
    "X_images = np.array(X_images)\n",
    "\n"
   ]
  },
  {
   "cell_type": "code",
   "execution_count": 17,
   "id": "9687451d",
   "metadata": {},
   "outputs": [
    {
     "name": "stderr",
     "output_type": "stream",
     "text": [
      "C:\\Users\\User\\AppData\\Roaming\\Python\\Python311\\site-packages\\keras\\src\\layers\\convolutional\\base_conv.py:107: UserWarning: Do not pass an `input_shape`/`input_dim` argument to a layer. When using Sequential models, prefer using an `Input(shape)` object as the first layer in the model instead.\n",
      "  super().__init__(activity_regularizer=activity_regularizer, **kwargs)\n"
     ]
    },
    {
     "name": "stdout",
     "output_type": "stream",
     "text": [
      "Dokładność w iteracji 1: 0.8829\n",
      "Dokładność w iteracji 2: 0.8412\n",
      "Dokładność w iteracji 3: 0.9215\n",
      "Dokładność w iteracji 4: 0.8921\n",
      "Dokładność w iteracji 5: 0.8829\n"
     ]
    }
   ],
   "source": [
    "i=1\n",
    "for train_idx, val_idx in skf.split(y_images, y_images):  # Zmiana indeksacji na y_images\n",
    "    X_train, X_val = X_images[train_idx], X_images[val_idx]\n",
    "    y_train, y_val = y_images_one_hot[train_idx], y_images_one_hot[val_idx]\n",
    "    \n",
    "    \n",
    "    cnn_model = models.Sequential([\n",
    "    layers.Conv2D(32, (3,3), activation='relu', input_shape=(70, 100, 3)),\n",
    "    layers.MaxPooling2D((2,2)),\n",
    "    layers.Conv2D(64, (3,3), activation='relu'),\n",
    "    layers.MaxPooling2D((2,2)),\n",
    "    layers.Conv2D(128, (3,3), activation='relu'),\n",
    "    layers.Flatten(),\n",
    "    layers.Dense(128, activation='relu'),\n",
    "    layers.Dense(len(np.unique(y_images)), activation='softmax')\n",
    "])\n",
    "    cnn_model.compile(optimizer='adam', loss='categorical_crossentropy', metrics=['accuracy'])\n",
    "    cnn_model.fit(X_train, y_train, epochs=10, validation_data=(X_val, y_val), batch_size=32, verbose=0)\n",
    "    \n",
    "    val_accuracy = cnn_model.evaluate(X_val, y_val, verbose=0)[1]\n",
    "    cnn_accuracies.append(val_accuracy)\n",
    "    \n",
    "    print(f\"Dokładność w iteracji {i}: {val_accuracy:.4f}\")\n",
    "    i+=1\n"
   ]
  },
  {
   "cell_type": "code",
   "execution_count": 18,
   "id": "b1d26214",
   "metadata": {},
   "outputs": [
    {
     "name": "stdout",
     "output_type": "stream",
     "text": [
      "Średnia dokładność CNN: 0.8841\n"
     ]
    }
   ],
   "source": [
    "print(f\"Średnia dokładność CNN: {np.mean(cnn_accuracies):.4f}\")"
   ]
  },
  {
   "cell_type": "code",
   "execution_count": null,
   "id": "6bb9a115-267a-4cbc-ae4c-0110aaf9d8ed",
   "metadata": {},
   "outputs": [],
   "source": [
    "## sprawdzenie na zbiorze testowym\n",
    "\n",
    "data_path = \"Dataset_split/test\"\n",
    "data_images = []\n",
    "labels = []\n",
    "image_size=(100, 70)\n",
    "\n",
    "\n",
    "for class_folder in os.listdir(data_path):  \n",
    "    class_path = os.path.join(data_path, class_folder)\n",
    "    if os.path.isdir(class_path):  \n",
    "        for file in os.listdir(class_path):  \n",
    "            if file.lower().endswith(('.jpg', '.jpeg', '.png')):  \n",
    "                img = cv2.imread(os.path.join(class_path, file))  # Wczytanie obrazu w kolorze\n",
    "                img = cv2.cvtColor(img, cv2.COLOR_BGR2RGB)  # Konwersja z BGR do RGB\n",
    "                img = cv2.resize(img, image_size)\n",
    "                data_images.append(img)\n",
    "                labels.append(class_folder)\n",
    "X_images = np.array(data_images) / 255.0  # Normalizacja\n",
    "\n",
    "label_encoder_images = LabelEncoder()\n",
    "y_images = label_encoder_images.fit_transform(labels)\n",
    "y_images_one_hot = to_categorical(y_images)\n",
    "\n",
    "\n",
    "cnn_model.evaluate(X_images, y_images_one_hot, verbose=0)[1]"
   ]
  },
  {
   "cell_type": "code",
   "execution_count": null,
   "id": "75545ad1-c125-4bdb-a63c-d7ed5d8214be",
   "metadata": {},
   "outputs": [],
   "source": []
  }
 ],
 "metadata": {
  "kernelspec": {
   "display_name": "Python 3 (ipykernel)",
   "language": "python",
   "name": "python3"
  },
  "language_info": {
   "codemirror_mode": {
    "name": "ipython",
    "version": 3
   },
   "file_extension": ".py",
   "mimetype": "text/x-python",
   "name": "python",
   "nbconvert_exporter": "python",
   "pygments_lexer": "ipython3",
   "version": "3.11.11"
  }
 },
 "nbformat": 4,
 "nbformat_minor": 5
}
