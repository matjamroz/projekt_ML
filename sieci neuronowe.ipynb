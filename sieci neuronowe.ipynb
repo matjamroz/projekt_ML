{
 "cells": [
  {
   "cell_type": "code",
   "execution_count": null,
   "id": "ef9156c5",
   "metadata": {},
   "outputs": [],
   "source": [
    "\n"
   ]
  },
  {
   "cell_type": "code",
   "execution_count": 1,
   "id": "de218d17",
   "metadata": {},
   "outputs": [],
   "source": [
    "import os\n",
    "import numpy as np\n",
    "import pandas as pd\n",
    "import tensorflow as tf\n",
    "from tensorflow.keras import layers, models\n",
    "from sklearn.model_selection import StratifiedKFold, train_test_split\n",
    "from sklearn.ensemble import RandomForestClassifier\n",
    "from sklearn.preprocessing import StandardScaler, LabelEncoder\n",
    "from sklearn.metrics import accuracy_score, classification_report\n",
    "from tensorflow.keras.utils import to_categorical\n",
    "import cv2\n",
    "from collections import defaultdict\n",
    "import matplotlib.pyplot as plt\n",
    "import random\n",
    "from PIL import Image\n",
    "from tensorflow.keras import regularizers\n",
    "\n",
    "\n"
   ]
  },
  {
   "cell_type": "code",
   "execution_count": 2,
   "id": "0d1349a6",
   "metadata": {},
   "outputs": [],
   "source": [
    "# Wczytanie danych\n",
    "train_data = pd.read_csv(\"train_data_with_features.csv\")\n",
    "test_data = pd.read_csv(\"test_data_with_features.csv\")"
   ]
  },
  {
   "cell_type": "code",
   "execution_count": 3,
   "id": "33300575",
   "metadata": {},
   "outputs": [],
   "source": [
    "# Przygotowanie cech i etykiet\n",
    "y_train_val = train_data['class']\n",
    "X_train_val = train_data.drop(['class', \"path\", \"filename\", \"R\", \"G\", \"B\", \"brightness\"], axis=1)\n",
    "y_test = test_data['class']\n",
    "X_test = test_data.drop(['class', \"path\", \"filename\", \"R\", \"G\", \"B\", \"brightness\"], axis=1)\n",
    "\n",
    "\n",
    "scaler = StandardScaler()\n",
    "X_train = scaler.fit_transform(X_train_val)\n",
    "X_test = scaler.transform(X_test)"
   ]
  },
  {
   "cell_type": "code",
   "execution_count": 4,
   "id": "6a493cf7",
   "metadata": {},
   "outputs": [
    {
     "ename": "NameError",
     "evalue": "name 'y' is not defined",
     "output_type": "error",
     "traceback": [
      "\u001b[1;31m---------------------------------------------------------------------------\u001b[0m",
      "\u001b[1;31mNameError\u001b[0m                                 Traceback (most recent call last)",
      "Cell \u001b[1;32mIn[4], line 3\u001b[0m\n\u001b[0;32m      1\u001b[0m \u001b[38;5;66;03m# Konwersja etykiet na wartości liczbowe\u001b[39;00m\n\u001b[0;32m      2\u001b[0m label_encoder \u001b[38;5;241m=\u001b[39m LabelEncoder()\n\u001b[1;32m----> 3\u001b[0m y_encoded \u001b[38;5;241m=\u001b[39m label_encoder\u001b[38;5;241m.\u001b[39mfit_transform(y)\n",
      "\u001b[1;31mNameError\u001b[0m: name 'y' is not defined"
     ]
    }
   ],
   "source": [
    "# Konwersja etykiet na wartości liczbowe\n",
    "label_encoder = LabelEncoder()\n",
    "y_encoded = label_encoder.fit_transform(y)\n",
    "\n"
   ]
  },
  {
   "cell_type": "code",
   "execution_count": null,
   "id": "1cf5ccb9",
   "metadata": {},
   "outputs": [],
   "source": [
    "# Definicja 5-krotnej walidacji krzyżowej\n",
    "skf = StratifiedKFold(n_splits=5, shuffle=True, random_state=42)\n",
    "\n",
    "accuracies = []\n",
    "reports = []"
   ]
  },
  {
   "cell_type": "code",
   "execution_count": null,
   "id": "8fc30304",
   "metadata": {},
   "outputs": [],
   "source": [
    "# Iteracja po podziałach walidacji krzyżowej\n",
    "for fold, (train_idx, val_idx) in enumerate(skf.split(X_train_val, y_train_val)):\n",
    "    print(f\"Fold {fold + 1}\")\n",
    "    X_train, X_val = X_train_val.iloc[train_idx], X_train_val.iloc[val_idx]\n",
    "    y_train, y_val = y_train_val[train_idx], y_train_val[val_idx]\n",
    "    \n",
    "    # Tworzenie i trenowanie modelu\n",
    "    clf = RandomForestClassifier(n_estimators=100, random_state=42,max_depth=7)\n",
    "    clf.fit(X_train, y_train)\n",
    "    \n",
    "    # Predykcja\n",
    "    y_pred = clf.predict(X_val)\n",
    "    \n",
    "    # Ewaluacja\n",
    "    accuracy = accuracy_score(y_val, y_pred)\n",
    "    accuracies.append(accuracy)\n",
    "    report = classification_report(y_val, y_pred, target_names=label_encoder.classes_)\n",
    "    reports.append(report)\n",
    "    \n",
    "    print(f\"Dokładność (walidacja): {accuracy:.4f}\")\n",
    "    print(\"Raport klasyfikacji:\\n\", report)\n",
    "    print(\"-\" * 50)\n",
    "\n"
   ]
  },
  {
   "cell_type": "code",
   "execution_count": null,
   "id": "dc598bcf",
   "metadata": {},
   "outputs": [],
   "source": [
    "# Ostateczna ewaluacja na zbiorze testowym\n",
    "final_model = RandomForestClassifier(n_estimators=100, random_state=42)\n",
    "final_model.fit(X_train_val, y_train_val)\n",
    "y_test_pred = final_model.predict(X_test)\n",
    "\n"
   ]
  },
  {
   "cell_type": "code",
   "execution_count": null,
   "id": "d95c1981",
   "metadata": {},
   "outputs": [],
   "source": [
    "test_accuracy = accuracy_score(y_test, y_test_pred)\n",
    "test_report = classification_report(y_test, y_test_pred, target_names=label_encoder.classes_)\n",
    "\n"
   ]
  },
  {
   "cell_type": "code",
   "execution_count": null,
   "id": "1467dbe0",
   "metadata": {},
   "outputs": [],
   "source": [
    "print(f\"Średnia dokładność na walidacji: {np.mean(accuracies):.4f}\")\n",
    "print(f\"Dokładność na zbiorze testowym: {test_accuracy:.4f}\")\n",
    "print(\"Raport klasyfikacji na zbiorze testowym:\\n\", test_report)"
   ]
  },
  {
   "cell_type": "code",
   "execution_count": null,
   "id": "662f0fbe",
   "metadata": {},
   "outputs": [],
   "source": [
    "y_one_hot = to_categorical(y_encoded)\n"
   ]
  },
  {
   "cell_type": "code",
   "execution_count": null,
   "id": "3d4a7f92",
   "metadata": {},
   "outputs": [],
   "source": [
    "scaler = StandardScaler()\n",
    "X_scaled = scaler.fit_transform(X)"
   ]
  },
  {
   "cell_type": "code",
   "execution_count": null,
   "id": "a83482f6",
   "metadata": {},
   "outputs": [],
   "source": [
    "mlp_accuracies = []\n",
    "\n",
    "for train_idx, val_idx in skf.split(X_scaled, y_encoded):\n",
    "    X_train, X_val = X_scaled[train_idx], X_scaled[val_idx]\n",
    "    y_train, y_val = y_one_hot[train_idx], y_one_hot[val_idx]\n",
    "    \n",
    "    mlp_model = models.Sequential([\n",
    "        layers.Dense(64, activation='relu', input_shape=(X_train.shape[1],)),\n",
    "        layers.Dense(64, activation='relu'),\n",
    "        layers.Dense(len(np.unique(y)), activation='softmax')\n",
    "    ])\n",
    "    \n",
    "    mlp_model.compile(optimizer='adam', loss='categorical_crossentropy', metrics=['accuracy'])\n",
    "    mlp_model.fit(X_train, y_train, epochs=10, validation_data=(X_val, y_val), batch_size=32, verbose=0)\n",
    "    \n",
    "    val_accuracy = mlp_model.evaluate(X_val, y_val, verbose=0)[1]\n",
    "    mlp_accuracies.append(val_accuracy)\n",
    "    \n"
   ]
  },
  {
   "cell_type": "code",
   "execution_count": null,
   "id": "2a85c3bb",
   "metadata": {},
   "outputs": [],
   "source": [
    "print(f\"Średnia dokładność MLP: {np.mean(mlp_accuracies):.4f}\")"
   ]
  },
  {
   "cell_type": "code",
   "execution_count": null,
   "id": "a9455bc1",
   "metadata": {},
   "outputs": [],
   "source": [
    "data_path = \"Dataset_split/train\"\n",
    "data_images = []\n",
    "labels = []\n",
    "image_size=(100, 70)\n",
    "\n",
    "\n",
    "for class_folder in os.listdir(data_path):  \n",
    "    class_path = os.path.join(data_path, class_folder)\n",
    "    if os.path.isdir(class_path):  \n",
    "        for file in os.listdir(class_path):  \n",
    "            if file.lower().endswith(('.jpg', '.jpeg', '.png')):  \n",
    "                img = cv2.imread(os.path.join(class_path, file))  # Wczytanie obrazu w kolorze\n",
    "                img = cv2.cvtColor(img, cv2.COLOR_BGR2RGB)  # Konwersja z BGR do RGB\n",
    "                img = cv2.resize(img, image_size)\n",
    "                data_images.append(img)\n",
    "                labels.append(class_folder)\n",
    "\n",
    "\n"
   ]
  },
  {
   "cell_type": "code",
   "execution_count": null,
   "id": "08c889d9",
   "metadata": {},
   "outputs": [],
   "source": [
    "X_images = np.array(data_images) / 255.0  # Normalizacja\n",
    "\n",
    "label_encoder_images = LabelEncoder()\n",
    "y_images = label_encoder_images.fit_transform(labels)\n",
    "y_images_one_hot = to_categorical(y_images)"
   ]
  },
  {
   "cell_type": "code",
   "execution_count": null,
   "id": "a0eb18d9",
   "metadata": {},
   "outputs": [],
   "source": [
    "# 5-krotna walidacja krzyżowa dla CNN\n",
    "cnn_accuracies = []\n",
    "skf = StratifiedKFold(n_splits=5, shuffle=True, random_state=42)\n",
    "X_images = np.array(X_images)\n",
    "\n"
   ]
  },
  {
   "cell_type": "code",
   "execution_count": null,
   "id": "9687451d",
   "metadata": {},
   "outputs": [],
   "source": [
    "i=1\n",
    "for train_idx, val_idx in skf.split(y_images, y_images):  # Zmiana indeksacji na y_images\n",
    "    X_train, X_val = X_images[train_idx], X_images[val_idx]\n",
    "    y_train, y_val = y_images_one_hot[train_idx], y_images_one_hot[val_idx]\n",
    "    \n",
    "    \n",
    "    cnn_model = models.Sequential([\n",
    "    layers.Conv2D(32, (3,3), activation='relu', input_shape=(70, 100, 3)),\n",
    "    layers.MaxPooling2D((2,2)),\n",
    "    layers.Conv2D(64, (3,3), activation='relu'),\n",
    "    layers.MaxPooling2D((2,2)),\n",
    "    layers.Conv2D(128, (3,3), activation='relu'),\n",
    "    layers.Flatten(),\n",
    "    layers.Dense(128, activation='relu'),\n",
    "    layers.Dense(len(np.unique(y_images)), activation='softmax')\n",
    "])\n",
    "    cnn_model.compile(optimizer='adam', loss='categorical_crossentropy', metrics=['accuracy'])\n",
    "    cnn_model.fit(X_train, y_train, epochs=10, validation_data=(X_val, y_val), batch_size=32, verbose=0)\n",
    "    \n",
    "    val_accuracy = cnn_model.evaluate(X_val, y_val, verbose=0)[1]\n",
    "    cnn_accuracies.append(val_accuracy)\n",
    "    \n",
    "    print(f\"Dokładność w iteracji {i}: {val_accuracy:.4f}\")\n",
    "    i+=1\n"
   ]
  },
  {
   "cell_type": "code",
   "execution_count": null,
   "id": "b1d26214",
   "metadata": {},
   "outputs": [],
   "source": [
    "print(f\"Średnia dokładność CNN: {np.mean(cnn_accuracies):.4f}\")"
   ]
  },
  {
   "cell_type": "code",
   "execution_count": null,
   "id": "6bb9a115-267a-4cbc-ae4c-0110aaf9d8ed",
   "metadata": {},
   "outputs": [],
   "source": [
    "## sprawdzenie na zbiorze testowym\n",
    "\n",
    "data_path = \"Dataset_split/test\"\n",
    "data_images = []\n",
    "labels = []\n",
    "image_size=(100, 70)\n",
    "\n",
    "\n",
    "for class_folder in os.listdir(data_path):  \n",
    "    class_path = os.path.join(data_path, class_folder)\n",
    "    if os.path.isdir(class_path):  \n",
    "        for file in os.listdir(class_path):  \n",
    "            if file.lower().endswith(('.jpg', '.jpeg', '.png')):  \n",
    "                img = cv2.imread(os.path.join(class_path, file))  # Wczytanie obrazu w kolorze\n",
    "                img = cv2.cvtColor(img, cv2.COLOR_BGR2RGB)  # Konwersja z BGR do RGB\n",
    "                img = cv2.resize(img, image_size)\n",
    "                data_images.append(img)\n",
    "                labels.append(class_folder)\n",
    "X_images = np.array(data_images) / 255.0  # Normalizacja\n",
    "\n",
    "label_encoder_images = LabelEncoder()\n",
    "y_images = label_encoder_images.fit_transform(labels)\n",
    "y_images_one_hot = to_categorical(y_images)\n",
    "\n",
    "\n",
    "cnn_model.evaluate(X_images, y_images_one_hot, verbose=0)[1]"
   ]
  },
  {
   "cell_type": "code",
   "execution_count": null,
   "id": "75545ad1-c125-4bdb-a63c-d7ed5d8214be",
   "metadata": {},
   "outputs": [],
   "source": []
  },
  {
   "cell_type": "code",
   "execution_count": null,
   "id": "a27299a1-ae46-485f-ac91-b984ccd20acb",
   "metadata": {},
   "outputs": [],
   "source": []
  }
 ],
 "metadata": {
  "kernelspec": {
   "display_name": "Python 3 (ipykernel)",
   "language": "python",
   "name": "python3"
  },
  "language_info": {
   "codemirror_mode": {
    "name": "ipython",
    "version": 3
   },
   "file_extension": ".py",
   "mimetype": "text/x-python",
   "name": "python",
   "nbconvert_exporter": "python",
   "pygments_lexer": "ipython3",
   "version": "3.11.11"
  }
 },
 "nbformat": 4,
 "nbformat_minor": 5
}
