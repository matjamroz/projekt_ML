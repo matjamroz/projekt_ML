{
 "cells": [
  {
   "cell_type": "markdown",
   "id": "d0ef66e3-ae5c-49f8-b2fd-780d86c3ec22",
   "metadata": {},
   "source": [
    "## Wybór optymalnego modelu - ocena sieci neuronowych\n",
    "#### ostatecznie nie zdecydowaliśmy się na użycie żadnego z tych modeli jako finalnego ze względu na gorszą predykcyjność\n"
   ]
  },
  {
   "cell_type": "code",
   "execution_count": 38,
   "id": "de218d17",
   "metadata": {},
   "outputs": [],
   "source": [
    "import os\n",
    "import numpy as np\n",
    "import pandas as pd\n",
    "import tensorflow as tf\n",
    "from tensorflow.keras import layers, models\n",
    "from sklearn.model_selection import StratifiedKFold, train_test_split\n",
    "from sklearn.ensemble import RandomForestClassifier\n",
    "from sklearn.preprocessing import StandardScaler, LabelEncoder\n",
    "from sklearn.metrics import accuracy_score, classification_report\n",
    "from sklearn.metrics import f1_score, confusion_matrix\n",
    "from tensorflow.keras.utils import to_categorical\n",
    "import cv2\n",
    "from collections import defaultdict\n",
    "import matplotlib.pyplot as plt\n",
    "import random\n",
    "from PIL import Image\n",
    "from tensorflow.keras import regularizers\n",
    "\n",
    "\n"
   ]
  },
  {
   "cell_type": "code",
   "execution_count": 39,
   "id": "0d1349a6",
   "metadata": {},
   "outputs": [],
   "source": [
    "# Wczytanie danych\n",
    "train_data = pd.read_csv(\"train_data_with_features.csv\")\n",
    "test_data = pd.read_csv(\"test_data_with_features.csv\")"
   ]
  },
  {
   "cell_type": "code",
   "execution_count": 40,
   "id": "33300575",
   "metadata": {},
   "outputs": [],
   "source": [
    "# Przygotowanie cech i etykiet\n",
    "y_train_val = train_data['class']\n",
    "X_train_val = train_data.drop(['class', \"path\", \"filename\", \"R\", \"G\", \"B\", \"brightness\"], axis=1)\n",
    "y_test = test_data['class']\n",
    "X_test = test_data.drop(['class', \"path\", \"filename\", \"R\", \"G\", \"B\", \"brightness\"], axis=1)\n",
    "\n",
    "\n",
    "scaler = StandardScaler()\n",
    "X_train_val = scaler.fit_transform(X_train_val)\n",
    "X_test = scaler.transform(X_test)"
   ]
  },
  {
   "cell_type": "code",
   "execution_count": 41,
   "id": "6a493cf7",
   "metadata": {},
   "outputs": [],
   "source": [
    "# Konwersja etykiet na wartości liczbowe\n",
    "label_encoder = LabelEncoder()\n",
    "y_encoded = label_encoder.fit_transform(y_train_val)\n",
    "\n"
   ]
  },
  {
   "cell_type": "code",
   "execution_count": 42,
   "id": "1cf5ccb9",
   "metadata": {},
   "outputs": [],
   "source": [
    "# Definicja 5-krotnej walidacji krzyżowej\n",
    "skf = StratifiedKFold(n_splits=5, shuffle=True, random_state=42)\n",
    "\n",
    "accuracies = []\n",
    "reports = []"
   ]
  },
  {
   "cell_type": "code",
   "execution_count": 43,
   "id": "8fc30304",
   "metadata": {},
   "outputs": [
    {
     "name": "stdout",
     "output_type": "stream",
     "text": [
      "Fold 1\n",
      "Dokładność (walidacja): 0.8912\n",
      "Raport klasyfikacji:\n",
      "                       precision    recall  f1-score   support\n",
      "\n",
      "      Bombali Ghevda       0.71      0.60      0.65        90\n",
      "        Butka Ghevda       0.97      0.98      0.97        90\n",
      "       Gabara Ghevda       1.00      0.98      0.99        89\n",
      "             God Wal       0.71      0.82      0.76        90\n",
      "          Hirva Lamb       0.94      0.91      0.93        89\n",
      "            Kadu wal       0.83      0.97      0.89        89\n",
      "            Kala Wal       0.94      0.90      0.92        90\n",
      "     Lal lamb shenga       0.81      0.92      0.86        89\n",
      "Lamb Shiracha Ghevda       0.90      0.84      0.87        90\n",
      "      Shravan Ghevda       1.00      0.92      0.96        89\n",
      "          Tambda wal       1.00      1.00      1.00        90\n",
      "       Vatana Ghevda       0.92      0.86      0.89        90\n",
      "\n",
      "            accuracy                           0.89      1075\n",
      "           macro avg       0.89      0.89      0.89      1075\n",
      "        weighted avg       0.89      0.89      0.89      1075\n",
      "\n",
      "--------------------------------------------------\n",
      "Fold 2\n",
      "Dokładność (walidacja): 0.9078\n",
      "Raport klasyfikacji:\n",
      "                       precision    recall  f1-score   support\n",
      "\n",
      "      Bombali Ghevda       0.84      0.71      0.77        90\n",
      "        Butka Ghevda       0.93      0.97      0.95        89\n",
      "       Gabara Ghevda       0.97      0.98      0.97        90\n",
      "             God Wal       0.76      0.90      0.82        89\n",
      "          Hirva Lamb       0.94      0.89      0.91        90\n",
      "            Kadu wal       0.83      0.99      0.90        89\n",
      "            Kala Wal       0.95      0.93      0.94        89\n",
      "     Lal lamb shenga       0.86      0.89      0.87        90\n",
      "Lamb Shiracha Ghevda       0.90      0.91      0.91        90\n",
      "      Shravan Ghevda       0.99      0.91      0.95        89\n",
      "          Tambda wal       1.00      0.99      0.99        90\n",
      "       Vatana Ghevda       0.96      0.83      0.89        89\n",
      "\n",
      "            accuracy                           0.91      1074\n",
      "           macro avg       0.91      0.91      0.91      1074\n",
      "        weighted avg       0.91      0.91      0.91      1074\n",
      "\n",
      "--------------------------------------------------\n",
      "Fold 3\n",
      "Dokładność (walidacja): 0.8966\n",
      "Raport klasyfikacji:\n",
      "                       precision    recall  f1-score   support\n",
      "\n",
      "      Bombali Ghevda       0.82      0.64      0.72        90\n",
      "        Butka Ghevda       0.92      1.00      0.96        89\n",
      "       Gabara Ghevda       1.00      0.97      0.98        90\n",
      "             God Wal       0.65      0.84      0.73        89\n",
      "          Hirva Lamb       0.93      0.91      0.92        90\n",
      "            Kadu wal       0.79      0.99      0.88        89\n",
      "            Kala Wal       0.99      0.99      0.99        89\n",
      "     Lal lamb shenga       0.88      0.90      0.89        90\n",
      "Lamb Shiracha Ghevda       0.98      0.89      0.93        89\n",
      "      Shravan Ghevda       1.00      0.90      0.95        90\n",
      "          Tambda wal       1.00      1.00      1.00        90\n",
      "       Vatana Ghevda       0.93      0.73      0.82        89\n",
      "\n",
      "            accuracy                           0.90      1074\n",
      "           macro avg       0.91      0.90      0.90      1074\n",
      "        weighted avg       0.91      0.90      0.90      1074\n",
      "\n",
      "--------------------------------------------------\n",
      "Fold 4\n",
      "Dokładność (walidacja): 0.9199\n",
      "Raport klasyfikacji:\n",
      "                       precision    recall  f1-score   support\n",
      "\n",
      "      Bombali Ghevda       0.90      0.71      0.79        89\n",
      "        Butka Ghevda       0.98      0.98      0.98        90\n",
      "       Gabara Ghevda       0.99      0.98      0.98        89\n",
      "             God Wal       0.73      0.90      0.81        90\n",
      "          Hirva Lamb       0.95      0.97      0.96        90\n",
      "            Kadu wal       0.84      1.00      0.91        88\n",
      "            Kala Wal       0.99      0.99      0.99        90\n",
      "     Lal lamb shenga       0.87      0.93      0.90        90\n",
      "Lamb Shiracha Ghevda       0.96      0.87      0.91        89\n",
      "      Shravan Ghevda       0.99      0.89      0.94        90\n",
      "          Tambda wal       1.00      1.00      1.00        89\n",
      "       Vatana Ghevda       0.93      0.83      0.88        90\n",
      "\n",
      "            accuracy                           0.92      1074\n",
      "           macro avg       0.93      0.92      0.92      1074\n",
      "        weighted avg       0.93      0.92      0.92      1074\n",
      "\n",
      "--------------------------------------------------\n",
      "Fold 5\n",
      "Dokładność (walidacja): 0.8957\n",
      "Raport klasyfikacji:\n",
      "                       precision    recall  f1-score   support\n",
      "\n",
      "      Bombali Ghevda       0.82      0.69      0.75        89\n",
      "        Butka Ghevda       0.99      0.96      0.97        90\n",
      "       Gabara Ghevda       0.98      0.97      0.97        89\n",
      "             God Wal       0.69      0.78      0.73        90\n",
      "          Hirva Lamb       0.93      0.91      0.92        89\n",
      "            Kadu wal       0.77      0.98      0.86        89\n",
      "            Kala Wal       0.98      0.93      0.95        90\n",
      "     Lal lamb shenga       0.82      0.89      0.85        89\n",
      "Lamb Shiracha Ghevda       0.90      0.92      0.91        90\n",
      "      Shravan Ghevda       1.00      0.91      0.95        90\n",
      "          Tambda wal       1.00      1.00      1.00        89\n",
      "       Vatana Ghevda       0.94      0.82      0.88        90\n",
      "\n",
      "            accuracy                           0.90      1074\n",
      "           macro avg       0.90      0.90      0.90      1074\n",
      "        weighted avg       0.90      0.90      0.90      1074\n",
      "\n",
      "--------------------------------------------------\n"
     ]
    }
   ],
   "source": [
    "# Iteracja po podziałach walidacji krzyżowej\n",
    "for fold, (train_idx, val_idx) in enumerate(skf.split(X_train_val, y_train_val)):\n",
    "    print(f\"Fold {fold + 1}\")\n",
    "    X_train, X_val = X_train_val[train_idx], X_train_val[val_idx]\n",
    "    y_train, y_val = y_train_val[train_idx], y_train_val[val_idx]\n",
    "    \n",
    "    # Tworzenie i trenowanie modelu\n",
    "    clf = RandomForestClassifier(n_estimators=100, random_state=42,max_depth=7)\n",
    "    clf.fit(X_train, y_train)\n",
    "    \n",
    "    # Predykcja\n",
    "    y_pred = clf.predict(X_val)\n",
    "    \n",
    "    # Ewaluacja\n",
    "    accuracy = accuracy_score(y_val, y_pred)\n",
    "    accuracies.append(accuracy)\n",
    "    report = classification_report(y_val, y_pred, target_names=label_encoder.classes_)\n",
    "    reports.append(report)\n",
    "    \n",
    "    print(f\"Dokładność (walidacja): {accuracy:.4f}\")\n",
    "    print(\"Raport klasyfikacji:\\n\", report)\n",
    "    print(\"-\" * 50)\n",
    "\n"
   ]
  },
  {
   "cell_type": "code",
   "execution_count": 44,
   "id": "dc598bcf",
   "metadata": {},
   "outputs": [],
   "source": [
    "# Ostateczna ewaluacja na zbiorze testowym\n",
    "final_model = RandomForestClassifier(n_estimators=100, random_state=42)\n",
    "final_model.fit(X_train_val, y_train_val)\n",
    "y_test_pred = final_model.predict(X_test)\n",
    "\n"
   ]
  },
  {
   "cell_type": "code",
   "execution_count": 45,
   "id": "d95c1981",
   "metadata": {},
   "outputs": [],
   "source": [
    "test_accuracy = accuracy_score(y_test, y_test_pred)\n",
    "test_report = classification_report(y_test, y_test_pred, target_names=label_encoder.classes_)\n",
    "\n"
   ]
  },
  {
   "cell_type": "code",
   "execution_count": 46,
   "id": "1467dbe0",
   "metadata": {},
   "outputs": [
    {
     "name": "stdout",
     "output_type": "stream",
     "text": [
      "Średnia dokładność na walidacji: 0.9023\n",
      "Dokładność na zbiorze testowym: 0.8111\n",
      "Raport klasyfikacji na zbiorze testowym:\n",
      "                       precision    recall  f1-score   support\n",
      "\n",
      "      Bombali Ghevda       0.77      0.38      0.50        80\n",
      "        Butka Ghevda       1.00      0.99      0.99        80\n",
      "       Gabara Ghevda       0.99      0.84      0.91        80\n",
      "             God Wal       0.40      0.65      0.50        80\n",
      "          Hirva Lamb       0.99      1.00      0.99        80\n",
      "            Kadu wal       0.67      0.89      0.76        80\n",
      "            Kala Wal       0.96      1.00      0.98        80\n",
      "     Lal lamb shenga       0.78      0.75      0.76        80\n",
      "Lamb Shiracha Ghevda       0.78      0.78      0.78        80\n",
      "      Shravan Ghevda       0.82      0.47      0.60        78\n",
      "          Tambda wal       1.00      0.99      0.99        80\n",
      "       Vatana Ghevda       0.87      1.00      0.93        80\n",
      "\n",
      "            accuracy                           0.81       958\n",
      "           macro avg       0.84      0.81      0.81       958\n",
      "        weighted avg       0.84      0.81      0.81       958\n",
      "\n"
     ]
    }
   ],
   "source": [
    "print(f\"Średnia dokładność na walidacji: {np.mean(accuracies):.4f}\")\n",
    "print(f\"Dokładność na zbiorze testowym: {test_accuracy:.4f}\")\n",
    "print(\"Raport klasyfikacji na zbiorze testowym:\\n\", test_report)"
   ]
  },
  {
   "cell_type": "code",
   "execution_count": 47,
   "id": "662f0fbe",
   "metadata": {},
   "outputs": [],
   "source": [
    "y_one_hot = to_categorical(y_encoded)\n"
   ]
  },
  {
   "cell_type": "code",
   "execution_count": 48,
   "id": "3d4a7f92",
   "metadata": {},
   "outputs": [],
   "source": [
    "scaler = StandardScaler()\n",
    "X_scaled = scaler.fit_transform(X_train_val)"
   ]
  },
  {
   "cell_type": "code",
   "execution_count": 49,
   "id": "2e0e4bcf-49b7-44f3-b245-f401e791d371",
   "metadata": {},
   "outputs": [
    {
     "name": "stdout",
     "output_type": "stream",
     "text": [
      "34/34 [==============================] - 0s 3ms/step\n",
      "34/34 [==============================] - 0s 2ms/step\n",
      "34/34 [==============================] - 0s 2ms/step\n",
      "34/34 [==============================] - 0s 3ms/step\n",
      "34/34 [==============================] - 0s 3ms/step\n"
     ]
    }
   ],
   "source": [
    "mlp_accuracies = []\n",
    "mlp_f1_scores = []\n",
    "mlp_specificities = []\n",
    "mlp_precisions = []\n",
    "mlp_recalls = []\n",
    "\n",
    "for train_idx, val_idx in skf.split(X_scaled, y_encoded):\n",
    "    X_train, X_val = X_scaled[train_idx], X_scaled[val_idx]\n",
    "    y_train, y_val = y_one_hot[train_idx], y_one_hot[val_idx]\n",
    "    \n",
    "    mlp_model = models.Sequential([\n",
    "        layers.Dense(128, activation='relu', input_shape=(X_train.shape[1],)),\n",
    "        layers.Dense(128, activation='relu'),\n",
    "        layers.Dense(64, activation='relu'),\n",
    "        layers.Dense(64, activation='relu'),\n",
    "        layers.Dense(32, activation='relu'),\n",
    "        layers.Dense(32, activation='relu'),\n",
    "    # Change the number of units in the final layer to match the number of classes\n",
    "        layers.Dense(12, activation='softmax') ])\n",
    "    mlp_model.compile(optimizer='adam', loss='categorical_crossentropy', metrics=['accuracy', 'Precision', 'Recall'])\n",
    "\n",
    "    history = mlp_model.fit(X_train, y_train, epochs=10, validation_data=(X_val, y_val), batch_size=32, verbose=0)\n",
    "    \n",
    "    val_loss, val_accuracy, val_precision, val_recall = mlp_model.evaluate(X_val, y_val, verbose=0)\n",
    "    \n",
    "    y_pred = mlp_model.predict(X_val)\n",
    "    y_pred_class = np.argmax(y_pred, axis=1)\n",
    "    y_val_class = np.argmax(y_val, axis=1)\n",
    "    val_f1 = f1_score(y_val_class, y_pred_class, average='weighted')\n",
    "    \n",
    "    \n",
    "    \n",
    "    mlp_accuracies.append(val_accuracy)\n",
    "    mlp_f1_scores.append(val_f1)\n",
    "    mlp_precisions.append(val_precision)\n",
    "    mlp_recalls.append(val_recall)\n",
    "\n",
    "\n",
    "avg_accuracy = np.mean(mlp_accuracies)\n",
    "avg_f1 = np.mean(mlp_f1_scores)\n",
    "avg_precision = np.mean(mlp_precisions)\n",
    "avg_recall = np.mean(mlp_recalls)\n",
    "\n",
    "\n",
    "    \n"
   ]
  },
  {
   "cell_type": "code",
   "execution_count": 50,
   "id": "2a85c3bb",
   "metadata": {},
   "outputs": [
    {
     "name": "stdout",
     "output_type": "stream",
     "text": [
      "Średnia dokładność: 0.9307\n",
      "Średnia F1-score: 0.9307\n",
      "Średnia Precision: 0.9379\n",
      "Średnia Recall: 0.9214\n"
     ]
    }
   ],
   "source": [
    "# Ukazanie średnich metryk - sugestia zespołu walidacyjnego by dodać inne niż accuracy\n",
    "print(f\"Średnia dokładność: {avg_accuracy:.4f}\")\n",
    "print(f\"Średnia F1-score: {avg_f1:.4f}\")\n",
    "print(f\"Średnia Precision: {avg_precision:.4f}\")\n",
    "print(f\"Średnia Recall: {avg_recall:.4f}\")"
   ]
  },
  {
   "cell_type": "code",
   "execution_count": 51,
   "id": "a1586171-79f3-4063-99c8-e1b5cb1ad63e",
   "metadata": {},
   "outputs": [
    {
     "name": "stdout",
     "output_type": "stream",
     "text": [
      "Epoch 1/10\n",
      "168/168 [==============================] - 3s 4ms/step - loss: 1.1820 - accuracy: 0.5829\n",
      "Epoch 2/10\n",
      "168/168 [==============================] - 1s 4ms/step - loss: 0.4646 - accuracy: 0.8287\n",
      "Epoch 3/10\n",
      "168/168 [==============================] - 1s 4ms/step - loss: 0.3329 - accuracy: 0.8745\n",
      "Epoch 4/10\n",
      "168/168 [==============================] - 6s 35ms/step - loss: 0.3000 - accuracy: 0.8833\n",
      "Epoch 5/10\n",
      "168/168 [==============================] - 1s 5ms/step - loss: 0.2575 - accuracy: 0.8985\n",
      "Epoch 6/10\n",
      "168/168 [==============================] - 1s 5ms/step - loss: 0.2305 - accuracy: 0.9104\n",
      "Epoch 7/10\n",
      "168/168 [==============================] - 1s 4ms/step - loss: 0.2012 - accuracy: 0.9220\n",
      "Epoch 8/10\n",
      "168/168 [==============================] - 1s 4ms/step - loss: 0.1972 - accuracy: 0.9252\n",
      "Epoch 9/10\n",
      "168/168 [==============================] - 1s 4ms/step - loss: 0.1550 - accuracy: 0.9406\n",
      "Epoch 10/10\n",
      "168/168 [==============================] - 1s 4ms/step - loss: 0.1372 - accuracy: 0.9468\n"
     ]
    },
    {
     "data": {
      "text/plain": [
       "<keras.src.callbacks.History at 0x1aff7bf95d0>"
      ]
     },
     "execution_count": 51,
     "metadata": {},
     "output_type": "execute_result"
    }
   ],
   "source": [
    "final_mlp_model = models.Sequential([\n",
    "    tf.keras.Input(shape=(X_scaled.shape[1],)),\n",
    "    layers.Dense(128, activation='relu'),\n",
    "    layers.Dense(128, activation='relu'),\n",
    "    layers.Dense(64, activation='relu'),\n",
    "    layers.Dense(64, activation='relu'),\n",
    "    layers.Dense(32, activation='relu'),\n",
    "    layers.Dense(32, activation='relu'),\n",
    "    layers.Dense(12, activation='softmax')\n",
    "])\n",
    "final_mlp_model.compile(optimizer='adam', loss='categorical_crossentropy', metrics=['accuracy'])\n",
    "\n",
    "# Trenowanie na pełnym zbiorze\n",
    "final_mlp_model.fit(X_scaled, y_one_hot, epochs=10, batch_size=32, verbose=1)"
   ]
  },
  {
   "cell_type": "code",
   "execution_count": 52,
   "id": "356c031f-0e84-4158-8754-cdd33c9395e2",
   "metadata": {},
   "outputs": [],
   "source": [
    "X_test_scaled = scaler.transform(X_test)\n",
    "y_test_encoded = label_encoder.transform(y_test)\n",
    "y_test_one_hot = to_categorical(y_test_encoded)"
   ]
  },
  {
   "cell_type": "code",
   "execution_count": 53,
   "id": "a2fec889-ec1a-4ac9-9c22-f4690f8689af",
   "metadata": {},
   "outputs": [
    {
     "name": "stdout",
     "output_type": "stream",
     "text": [
      "30/30 [==============================] - 0s 3ms/step - loss: 0.5963 - accuracy: 0.8132\n",
      "30/30 [==============================] - 0s 3ms/step\n",
      "Dokładność na zbiorze testowym: 0.8132\n",
      "Raport klasyfikacji:\n",
      "                       precision    recall  f1-score   support\n",
      "\n",
      "      Bombali Ghevda       0.43      0.04      0.07        80\n",
      "        Butka Ghevda       1.00      1.00      1.00        80\n",
      "       Gabara Ghevda       0.97      0.88      0.92        80\n",
      "             God Wal       0.35      0.79      0.49        80\n",
      "          Hirva Lamb       0.96      1.00      0.98        80\n",
      "            Kadu wal       0.69      0.90      0.78        80\n",
      "            Kala Wal       0.99      0.99      0.99        80\n",
      "     Lal lamb shenga       0.84      0.94      0.89        80\n",
      "Lamb Shiracha Ghevda       0.97      0.82      0.89        80\n",
      "      Shravan Ghevda       0.95      0.45      0.61        78\n",
      "          Tambda wal       1.00      0.99      0.99        80\n",
      "       Vatana Ghevda       0.96      0.96      0.96        80\n",
      "\n",
      "            accuracy                           0.81       958\n",
      "           macro avg       0.84      0.81      0.80       958\n",
      "        weighted avg       0.84      0.81      0.80       958\n",
      "\n"
     ]
    }
   ],
   "source": [
    "test_loss, test_accuracy = final_mlp_model.evaluate(X_test_scaled, y_test_one_hot)\n",
    "y_test_pred_proba = final_mlp_model.predict(X_test_scaled)\n",
    "y_test_pred = np.argmax(y_test_pred_proba, axis=1)\n",
    "\n",
    "print(f\"Dokładność na zbiorze testowym: {test_accuracy:.4f}\")\n",
    "print(\"Raport klasyfikacji:\\n\", classification_report(y_test_encoded, y_test_pred, target_names=label_encoder.classes_))"
   ]
  },
  {
   "cell_type": "code",
   "execution_count": 54,
   "id": "a9455bc1",
   "metadata": {},
   "outputs": [],
   "source": [
    "data_path = \"Dataset_split/train\"\n",
    "data_images = []\n",
    "labels = []\n",
    "image_size=(100, 70)\n",
    "\n",
    "\n",
    "for class_folder in os.listdir(data_path):  \n",
    "    class_path = os.path.join(data_path, class_folder)\n",
    "    if os.path.isdir(class_path):  \n",
    "        for file in os.listdir(class_path):  \n",
    "            if file.lower().endswith(('.jpg', '.jpeg', '.png')):  \n",
    "                img = cv2.imread(os.path.join(class_path, file))  # Wczytanie obrazu w kolorze\n",
    "                img = cv2.cvtColor(img, cv2.COLOR_BGR2RGB)  # Konwersja z BGR do RGB\n",
    "                img = cv2.resize(img, image_size)\n",
    "                data_images.append(img)\n",
    "                labels.append(class_folder)\n",
    "\n",
    "\n"
   ]
  },
  {
   "cell_type": "code",
   "execution_count": 55,
   "id": "08c889d9",
   "metadata": {},
   "outputs": [],
   "source": [
    "X_images = np.array(data_images) / 255.0  # Normalizacja\n",
    "\n",
    "label_encoder_images = LabelEncoder()\n",
    "y_images = label_encoder_images.fit_transform(labels)\n",
    "y_images_one_hot = to_categorical(y_images)"
   ]
  },
  {
   "cell_type": "code",
   "execution_count": 31,
   "id": "a0eb18d9",
   "metadata": {},
   "outputs": [],
   "source": [
    "# 5-krotna walidacja krzyżowa dla CNN\n",
    "cnn_accuracies = []\n",
    "skf = StratifiedKFold(n_splits=5, shuffle=True, random_state=42)\n",
    "X_images = np.array(X_images)\n",
    "\n"
   ]
  },
  {
   "cell_type": "code",
   "execution_count": 32,
   "id": "9687451d",
   "metadata": {},
   "outputs": [
    {
     "name": "stdout",
     "output_type": "stream",
     "text": [
      "Dokładność w iteracji 1: 0.6921\n",
      "Dokładność w iteracji 2: 0.8343\n",
      "Dokładność w iteracji 3: 0.8520\n",
      "Dokładność w iteracji 4: 0.8399\n",
      "Dokładność w iteracji 5: 0.8147\n"
     ]
    }
   ],
   "source": [
    "i=1\n",
    "for train_idx, val_idx in skf.split(y_images, y_images):  # Zmiana indeksacji na y_images\n",
    "    X_train, X_val = X_images[train_idx], X_images[val_idx]\n",
    "    y_train, y_val = y_images_one_hot[train_idx], y_images_one_hot[val_idx]\n",
    "    \n",
    "    \n",
    "    cnn_model = models.Sequential([\n",
    "    layers.Conv2D(32, (3,3), activation='relu', input_shape=(70, 100, 3)),\n",
    "    layers.MaxPooling2D((2,2)),\n",
    "    layers.Conv2D(64, (3,3), activation='relu'),\n",
    "    layers.MaxPooling2D((2,2)),\n",
    "    layers.Conv2D(128, (3,3), activation='relu'),\n",
    "    layers.Flatten(),\n",
    "    layers.Dense(128, activation='relu'),\n",
    "    layers.Dense(len(np.unique(y_images)), activation='softmax')\n",
    "])\n",
    "    cnn_model.compile(optimizer='adam', loss='categorical_crossentropy', metrics=['accuracy'])\n",
    "    cnn_model.fit(X_train, y_train, epochs=10, validation_data=(X_val, y_val), batch_size=32, verbose=0)\n",
    "    \n",
    "    val_accuracy = cnn_model.evaluate(X_val, y_val, verbose=0)[1]\n",
    "    cnn_accuracies.append(val_accuracy)\n",
    "    \n",
    "    print(f\"Dokładność w iteracji {i}: {val_accuracy:.4f}\")\n",
    "    i+=1\n"
   ]
  },
  {
   "cell_type": "code",
   "execution_count": 33,
   "id": "b1d26214",
   "metadata": {},
   "outputs": [
    {
     "name": "stdout",
     "output_type": "stream",
     "text": [
      "Średnia dokładność CNN: 0.8066\n"
     ]
    }
   ],
   "source": [
    "print(f\"Średnia dokładność CNN: {np.mean(cnn_accuracies):.4f}\")"
   ]
  },
  {
   "cell_type": "code",
   "execution_count": 37,
   "id": "6bb9a115-267a-4cbc-ae4c-0110aaf9d8ed",
   "metadata": {},
   "outputs": [
    {
     "data": {
      "text/plain": [
       "0.7779433727264404"
      ]
     },
     "execution_count": 37,
     "metadata": {},
     "output_type": "execute_result"
    }
   ],
   "source": [
    "## sprawdzenie na zbiorze testowym\n",
    "\n",
    "data_path = \"Dataset_split/test\"\n",
    "data_images = []\n",
    "labels = []\n",
    "image_size=(100, 70)\n",
    "\n",
    "\n",
    "for class_folder in os.listdir(data_path):  \n",
    "    class_path = os.path.join(data_path, class_folder)\n",
    "    if os.path.isdir(class_path):  \n",
    "        for file in os.listdir(class_path):  \n",
    "            if file.lower().endswith(('.jpg', '.jpeg', '.png')):  \n",
    "                img = cv2.imread(os.path.join(class_path, file))  # Wczytanie obrazu w kolorze\n",
    "                img = cv2.cvtColor(img, cv2.COLOR_BGR2RGB)  # Konwersja z BGR do RGB\n",
    "                img = cv2.resize(img, image_size)\n",
    "                data_images.append(img)\n",
    "                labels.append(class_folder)\n",
    "X_images = np.array(data_images) / 255.0  # Normalizacja\n",
    "\n",
    "label_encoder_images = LabelEncoder()\n",
    "y_images = label_encoder_images.fit_transform(labels)\n",
    "y_images_one_hot = to_categorical(y_images)\n",
    "\n",
    "\n",
    "cnn_model.evaluate(X_images, y_images_one_hot, verbose=0)[1]"
   ]
  },
  {
   "cell_type": "code",
   "execution_count": null,
   "id": "860b43c0-5d05-467b-929d-8885d92faba2",
   "metadata": {},
   "outputs": [],
   "source": []
  }
 ],
 "metadata": {
  "kernelspec": {
   "display_name": "Python 3 (ipykernel)",
   "language": "python",
   "name": "python3"
  },
  "language_info": {
   "codemirror_mode": {
    "name": "ipython",
    "version": 3
   },
   "file_extension": ".py",
   "mimetype": "text/x-python",
   "name": "python",
   "nbconvert_exporter": "python",
   "pygments_lexer": "ipython3",
   "version": "3.11.11"
  }
 },
 "nbformat": 4,
 "nbformat_minor": 5
}
