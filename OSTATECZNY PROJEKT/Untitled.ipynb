{
 "cells": [
  {
   "cell_type": "code",
   "execution_count": null,
   "id": "cfe9fece-24b1-4e01-9902-ee149bf1347b",
   "metadata": {},
   "outputs": [],
   "source": []
  }
 ],
 "metadata": {
  "kernelspec": {
   "display_name": "",
   "name": ""
  },
  "language_info": {
   "name": ""
  }
 },
 "nbformat": 4,
 "nbformat_minor": 5
}
