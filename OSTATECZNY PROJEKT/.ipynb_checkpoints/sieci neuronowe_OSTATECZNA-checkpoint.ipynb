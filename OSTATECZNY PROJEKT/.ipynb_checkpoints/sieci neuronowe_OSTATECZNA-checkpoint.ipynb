{
 "cells": [
  {
   "cell_type": "code",
   "execution_count": null,
   "id": "ef9156c5",
   "metadata": {},
   "outputs": [],
   "source": [
    "\n"
   ]
  },
  {
   "cell_type": "code",
   "execution_count": 101,
   "id": "de218d17",
   "metadata": {},
   "outputs": [],
   "source": [
    "import os\n",
    "import numpy as np\n",
    "import pandas as pd\n",
    "import tensorflow as tf\n",
    "from tensorflow.keras import layers, models\n",
    "from sklearn.model_selection import StratifiedKFold, train_test_split\n",
    "from sklearn.ensemble import RandomForestClassifier\n",
    "from sklearn.preprocessing import StandardScaler, LabelEncoder\n",
    "from sklearn.metrics import accuracy_score, classification_report\n",
    "from sklearn.metrics import f1_score, confusion_matrix\n",
    "from tensorflow.keras.utils import to_categorical\n",
    "import cv2\n",
    "from collections import defaultdict\n",
    "import matplotlib.pyplot as plt\n",
    "import random\n",
    "from PIL import Image\n",
    "from tensorflow.keras import regularizers\n",
    "\n",
    "\n"
   ]
  },
  {
   "cell_type": "code",
   "execution_count": 110,
   "id": "0d1349a6",
   "metadata": {},
   "outputs": [],
   "source": [
    "# Wczytanie danych\n",
    "train_data = pd.read_csv(\"train_data_with_features.csv\")\n",
    "test_data = pd.read_csv(\"test_data_with_features.csv\")"
   ]
  },
  {
   "cell_type": "code",
   "execution_count": 111,
   "id": "33300575",
   "metadata": {},
   "outputs": [],
   "source": [
    "# Przygotowanie cech i etykiet\n",
    "y_train_val = train_data['class']\n",
    "X_train_val = train_data.drop(['class', \"path\", \"filename\", \"R\", \"G\", \"B\", \"brightness\"], axis=1)\n",
    "y_test = test_data['class']\n",
    "X_test = test_data.drop(['class', \"path\", \"filename\", \"R\", \"G\", \"B\", \"brightness\"], axis=1)\n",
    "\n",
    "\n",
    "scaler = StandardScaler()\n",
    "X_train_val = scaler.fit_transform(X_train_val)\n",
    "X_test = scaler.transform(X_test)"
   ]
  },
  {
   "cell_type": "code",
   "execution_count": 112,
   "id": "6a493cf7",
   "metadata": {},
   "outputs": [],
   "source": [
    "# Konwersja etykiet na wartości liczbowe\n",
    "label_encoder = LabelEncoder()\n",
    "y_encoded = label_encoder.fit_transform(y_train_val)\n",
    "\n"
   ]
  },
  {
   "cell_type": "code",
   "execution_count": 113,
   "id": "1cf5ccb9",
   "metadata": {},
   "outputs": [],
   "source": [
    "# Definicja 5-krotnej walidacji krzyżowej\n",
    "skf = StratifiedKFold(n_splits=5, shuffle=True, random_state=42)\n",
    "\n",
    "accuracies = []\n",
    "reports = []"
   ]
  },
  {
   "cell_type": "code",
   "execution_count": 114,
   "id": "8fc30304",
   "metadata": {},
   "outputs": [
    {
     "name": "stdout",
     "output_type": "stream",
     "text": [
      "Fold 1\n",
      "Dokładność (walidacja): 0.8600\n",
      "Raport klasyfikacji:\n",
      "                       precision    recall  f1-score   support\n",
      "\n",
      "      Bombali Ghevda       0.81      0.60      0.69        86\n",
      "        Butka Ghevda       0.98      0.93      0.96        59\n",
      "       Gabara Ghevda       0.95      0.92      0.93        59\n",
      "             God Wal       0.66      0.87      0.75        86\n",
      "          Hirva Lamb       0.89      0.95      0.92        60\n",
      "            Kadu wal       0.81      0.94      0.87        85\n",
      "            Kala Wal       0.93      0.90      0.91        59\n",
      "     Lal lamb shenga       0.81      0.86      0.84        59\n",
      "Lamb Shiracha Ghevda       0.89      0.85      0.87        60\n",
      "      Shravan Ghevda       0.96      0.88      0.92        60\n",
      "          Tambda wal       1.00      0.97      0.98        60\n",
      "       Vatana Ghevda       0.86      0.72      0.78        60\n",
      "\n",
      "            accuracy                           0.86       793\n",
      "           macro avg       0.88      0.87      0.87       793\n",
      "        weighted avg       0.87      0.86      0.86       793\n",
      "\n",
      "--------------------------------------------------\n",
      "Fold 2\n",
      "Dokładność (walidacja): 0.8876\n",
      "Raport klasyfikacji:\n",
      "                       precision    recall  f1-score   support\n",
      "\n",
      "      Bombali Ghevda       0.86      0.76      0.80        86\n",
      "        Butka Ghevda       0.97      0.95      0.96        59\n",
      "       Gabara Ghevda       0.93      0.93      0.93        59\n",
      "             God Wal       0.71      0.84      0.77        86\n",
      "          Hirva Lamb       0.93      0.90      0.91        59\n",
      "            Kadu wal       0.90      0.99      0.94        85\n",
      "            Kala Wal       0.83      0.98      0.90        60\n",
      "     Lal lamb shenga       0.88      0.78      0.83        59\n",
      "Lamb Shiracha Ghevda       0.90      0.88      0.89        60\n",
      "      Shravan Ghevda       1.00      0.92      0.96        60\n",
      "          Tambda wal       1.00      1.00      1.00        60\n",
      "       Vatana Ghevda       0.88      0.76      0.82        59\n",
      "\n",
      "            accuracy                           0.89       792\n",
      "           macro avg       0.90      0.89      0.89       792\n",
      "        weighted avg       0.89      0.89      0.89       792\n",
      "\n",
      "--------------------------------------------------\n",
      "Fold 3\n",
      "Dokładność (walidacja): 0.8775\n",
      "Raport klasyfikacji:\n",
      "                       precision    recall  f1-score   support\n",
      "\n",
      "      Bombali Ghevda       0.90      0.63      0.74        86\n",
      "        Butka Ghevda       0.97      0.97      0.97        59\n",
      "       Gabara Ghevda       0.96      0.93      0.95        59\n",
      "             God Wal       0.65      0.85      0.74        86\n",
      "          Hirva Lamb       0.98      0.86      0.92        59\n",
      "            Kadu wal       0.82      0.98      0.89        85\n",
      "            Kala Wal       0.95      0.97      0.96        60\n",
      "     Lal lamb shenga       0.81      0.95      0.87        59\n",
      "Lamb Shiracha Ghevda       0.96      0.90      0.93        60\n",
      "      Shravan Ghevda       0.98      0.80      0.88        60\n",
      "          Tambda wal       0.97      1.00      0.98        60\n",
      "       Vatana Ghevda       0.85      0.78      0.81        59\n",
      "\n",
      "            accuracy                           0.88       792\n",
      "           macro avg       0.90      0.88      0.89       792\n",
      "        weighted avg       0.89      0.88      0.88       792\n",
      "\n",
      "--------------------------------------------------\n",
      "Fold 4\n",
      "Dokładność (walidacja): 0.8523\n",
      "Raport klasyfikacji:\n",
      "                       precision    recall  f1-score   support\n",
      "\n",
      "      Bombali Ghevda       0.78      0.67      0.72        86\n",
      "        Butka Ghevda       0.95      0.93      0.94        59\n",
      "       Gabara Ghevda       0.95      0.95      0.95        59\n",
      "             God Wal       0.69      0.71      0.70        86\n",
      "          Hirva Lamb       0.90      0.88      0.89        59\n",
      "            Kadu wal       0.73      0.94      0.82        85\n",
      "            Kala Wal       0.93      0.90      0.92        60\n",
      "     Lal lamb shenga       0.81      0.86      0.84        59\n",
      "Lamb Shiracha Ghevda       0.83      0.83      0.83        60\n",
      "      Shravan Ghevda       0.98      0.85      0.91        60\n",
      "          Tambda wal       0.98      0.98      0.98        60\n",
      "       Vatana Ghevda       0.91      0.81      0.86        59\n",
      "\n",
      "            accuracy                           0.85       792\n",
      "           macro avg       0.87      0.86      0.86       792\n",
      "        weighted avg       0.86      0.85      0.85       792\n",
      "\n",
      "--------------------------------------------------\n",
      "Fold 5\n",
      "Dokładność (walidacja): 0.8662\n",
      "Raport klasyfikacji:\n",
      "                       precision    recall  f1-score   support\n",
      "\n",
      "      Bombali Ghevda       0.82      0.62      0.71        85\n",
      "        Butka Ghevda       0.98      1.00      0.99        60\n",
      "       Gabara Ghevda       1.00      0.90      0.95        59\n",
      "             God Wal       0.64      0.79      0.70        86\n",
      "          Hirva Lamb       0.93      0.88      0.90        59\n",
      "            Kadu wal       0.79      0.96      0.87        85\n",
      "            Kala Wal       0.92      0.93      0.92        59\n",
      "     Lal lamb shenga       0.80      0.87      0.83        60\n",
      "Lamb Shiracha Ghevda       0.95      0.88      0.91        60\n",
      "      Shravan Ghevda       1.00      0.87      0.93        60\n",
      "          Tambda wal       0.98      1.00      0.99        60\n",
      "       Vatana Ghevda       0.88      0.78      0.83        59\n",
      "\n",
      "            accuracy                           0.87       792\n",
      "           macro avg       0.89      0.87      0.88       792\n",
      "        weighted avg       0.88      0.87      0.87       792\n",
      "\n",
      "--------------------------------------------------\n"
     ]
    }
   ],
   "source": [
    "# Iteracja po podziałach walidacji krzyżowej\n",
    "for fold, (train_idx, val_idx) in enumerate(skf.split(X_train_val, y_train_val)):\n",
    "    print(f\"Fold {fold + 1}\")\n",
    "    X_train, X_val = X_train_val[train_idx], X_train_val[val_idx]\n",
    "    y_train, y_val = y_train_val[train_idx], y_train_val[val_idx]\n",
    "    \n",
    "    # Tworzenie i trenowanie modelu\n",
    "    clf = RandomForestClassifier(n_estimators=100, random_state=42,max_depth=7)\n",
    "    clf.fit(X_train, y_train)\n",
    "    \n",
    "    # Predykcja\n",
    "    y_pred = clf.predict(X_val)\n",
    "    \n",
    "    # Ewaluacja\n",
    "    accuracy = accuracy_score(y_val, y_pred)\n",
    "    accuracies.append(accuracy)\n",
    "    report = classification_report(y_val, y_pred, target_names=label_encoder.classes_)\n",
    "    reports.append(report)\n",
    "    \n",
    "    print(f\"Dokładność (walidacja): {accuracy:.4f}\")\n",
    "    print(\"Raport klasyfikacji:\\n\", report)\n",
    "    print(\"-\" * 50)\n",
    "\n"
   ]
  },
  {
   "cell_type": "code",
   "execution_count": 115,
   "id": "dc598bcf",
   "metadata": {},
   "outputs": [],
   "source": [
    "# Ostateczna ewaluacja na zbiorze testowym\n",
    "final_model = RandomForestClassifier(n_estimators=100, random_state=42)\n",
    "final_model.fit(X_train_val, y_train_val)\n",
    "y_test_pred = final_model.predict(X_test)\n",
    "\n"
   ]
  },
  {
   "cell_type": "code",
   "execution_count": 116,
   "id": "d95c1981",
   "metadata": {},
   "outputs": [],
   "source": [
    "test_accuracy = accuracy_score(y_test, y_test_pred)\n",
    "test_report = classification_report(y_test, y_test_pred, target_names=label_encoder.classes_)\n",
    "\n"
   ]
  },
  {
   "cell_type": "code",
   "execution_count": 117,
   "id": "1467dbe0",
   "metadata": {},
   "outputs": [
    {
     "name": "stdout",
     "output_type": "stream",
     "text": [
      "Średnia dokładność na walidacji: 0.8687\n",
      "Dokładność na zbiorze testowym: 0.9713\n",
      "Raport klasyfikacji na zbiorze testowym:\n",
      "                       precision    recall  f1-score   support\n",
      "\n",
      "      Bombali Ghevda       0.93      0.90      0.91        58\n",
      "        Butka Ghevda       1.00      1.00      1.00        56\n",
      "       Gabara Ghevda       1.00      0.97      0.98        58\n",
      "             God Wal       0.90      0.93      0.92        60\n",
      "          Hirva Lamb       1.00      1.00      1.00        56\n",
      "            Kadu wal       0.93      0.97      0.95        58\n",
      "            Kala Wal       1.00      0.98      0.99        58\n",
      "     Lal lamb shenga       0.96      0.98      0.97        56\n",
      "Lamb Shiracha Ghevda       0.98      0.98      0.98        60\n",
      "      Shravan Ghevda       1.00      0.98      0.99        61\n",
      "          Tambda wal       1.00      1.00      1.00        60\n",
      "       Vatana Ghevda       0.95      0.96      0.96        56\n",
      "\n",
      "            accuracy                           0.97       697\n",
      "           macro avg       0.97      0.97      0.97       697\n",
      "        weighted avg       0.97      0.97      0.97       697\n",
      "\n"
     ]
    }
   ],
   "source": [
    "print(f\"Średnia dokładność na walidacji: {np.mean(accuracies):.4f}\")\n",
    "print(f\"Dokładność na zbiorze testowym: {test_accuracy:.4f}\")\n",
    "print(\"Raport klasyfikacji na zbiorze testowym:\\n\", test_report)"
   ]
  },
  {
   "cell_type": "code",
   "execution_count": 118,
   "id": "662f0fbe",
   "metadata": {},
   "outputs": [],
   "source": [
    "y_one_hot = to_categorical(y_encoded)\n"
   ]
  },
  {
   "cell_type": "code",
   "execution_count": 119,
   "id": "3d4a7f92",
   "metadata": {},
   "outputs": [],
   "source": [
    "scaler = StandardScaler()\n",
    "X_scaled = scaler.fit_transform(X_train_val)"
   ]
  },
  {
   "cell_type": "code",
   "execution_count": 123,
   "id": "2e0e4bcf-49b7-44f3-b245-f401e791d371",
   "metadata": {},
   "outputs": [
    {
     "name": "stdout",
     "output_type": "stream",
     "text": [
      "25/25 [==============================] - 0s 3ms/step\n",
      "25/25 [==============================] - 0s 1ms/step\n",
      "25/25 [==============================] - 0s 3ms/step\n",
      "25/25 [==============================] - 0s 3ms/step\n",
      "25/25 [==============================] - 0s 3ms/step\n"
     ]
    }
   ],
   "source": [
    "##### mlp_accuracies = []\n",
    "mlp_f1_scores = []\n",
    "mlp_specificities = []\n",
    "mlp_precisions = []\n",
    "mlp_recalls = []\n",
    "\n",
    "for train_idx, val_idx in skf.split(X_scaled, y_encoded):\n",
    "    X_train, X_val = X_scaled[train_idx], X_scaled[val_idx]\n",
    "    y_train, y_val = y_one_hot[train_idx], y_one_hot[val_idx]\n",
    "    \n",
    "    mlp_model = models.Sequential([\n",
    "        layers.Dense(128, activation='relu', input_shape=(X_train.shape[1],)),\n",
    "        layers.Dense(128, activation='relu'),\n",
    "        layers.Dense(64, activation='relu'),\n",
    "        layers.Dense(64, activation='relu'),\n",
    "        layers.Dense(32, activation='relu'),\n",
    "        layers.Dense(32, activation='relu'),\n",
    "    # Change the number of units in the final layer to match the number of classes\n",
    "        layers.Dense(12, activation='softmax') ])\n",
    "    mlp_model.compile(optimizer='adam', loss='categorical_crossentropy', metrics=['accuracy', 'Precision', 'Recall'])\n",
    "\n",
    "    # Train the model\n",
    "    history = mlp_model.fit(X_train, y_train, epochs=10, validation_data=(X_val, y_val), batch_size=32, verbose=0)\n",
    "    \n",
    "    # Evaluate model on validation data\n",
    "    val_loss, val_accuracy, val_precision, val_recall = mlp_model.evaluate(X_val, y_val, verbose=0)\n",
    "    \n",
    "    # Calculate F1-score\n",
    "    y_pred = mlp_model.predict(X_val)\n",
    "    y_pred_class = np.argmax(y_pred, axis=1)\n",
    "    y_val_class = np.argmax(y_val, axis=1)\n",
    "    val_f1 = f1_score(y_val_class, y_pred_class, average='weighted')\n",
    "    \n",
    "    \n",
    "    \n",
    "    # Store metrics for averaging\n",
    "    mlp_accuracies.append(val_accuracy)\n",
    "    mlp_f1_scores.append(val_f1)\n",
    "    mlp_precisions.append(val_precision)\n",
    "    mlp_recalls.append(val_recall)\n",
    "\n",
    "# Calculate the average for each metric\n",
    "avg_accuracy = np.mean(mlp_accuracies)\n",
    "avg_f1 = np.mean(mlp_f1_scores)\n",
    "avg_precision = np.mean(mlp_precisions)\n",
    "avg_recall = np.mean(mlp_recalls)\n",
    "\n",
    "\n",
    "    \n"
   ]
  },
  {
   "cell_type": "code",
   "execution_count": 122,
   "id": "2a85c3bb",
   "metadata": {},
   "outputs": [
    {
     "name": "stdout",
     "output_type": "stream",
     "text": [
      "Średnia dokładność: 0.8748\n",
      "Średnia F1-score: 0.8619\n",
      "Średnia Precision: 0.8889\n",
      "Średnia Recall: 0.8485\n"
     ]
    }
   ],
   "source": [
    "# Print the average metrics\n",
    "print(f\"Średnia dokładność: {avg_accuracy:.4f}\")\n",
    "print(f\"Średnia F1-score: {avg_f1:.4f}\")\n",
    "print(f\"Średnia Precision: {avg_precision:.4f}\")\n",
    "print(f\"Średnia Recall: {avg_recall:.4f}\")"
   ]
  },
  {
   "cell_type": "code",
   "execution_count": 81,
   "id": "a9455bc1",
   "metadata": {},
   "outputs": [],
   "source": [
    "data_path = \"Dataset_split/train\"\n",
    "data_images = []\n",
    "labels = []\n",
    "image_size=(100, 70)\n",
    "\n",
    "\n",
    "for class_folder in os.listdir(data_path):  \n",
    "    class_path = os.path.join(data_path, class_folder)\n",
    "    if os.path.isdir(class_path):  \n",
    "        for file in os.listdir(class_path):  \n",
    "            if file.lower().endswith(('.jpg', '.jpeg', '.png')):  \n",
    "                img = cv2.imread(os.path.join(class_path, file))  # Wczytanie obrazu w kolorze\n",
    "                img = cv2.cvtColor(img, cv2.COLOR_BGR2RGB)  # Konwersja z BGR do RGB\n",
    "                img = cv2.resize(img, image_size)\n",
    "                data_images.append(img)\n",
    "                labels.append(class_folder)\n",
    "\n",
    "\n"
   ]
  },
  {
   "cell_type": "code",
   "execution_count": 82,
   "id": "08c889d9",
   "metadata": {},
   "outputs": [],
   "source": [
    "X_images = np.array(data_images) / 255.0  # Normalizacja\n",
    "\n",
    "label_encoder_images = LabelEncoder()\n",
    "y_images = label_encoder_images.fit_transform(labels)\n",
    "y_images_one_hot = to_categorical(y_images)"
   ]
  },
  {
   "cell_type": "code",
   "execution_count": 83,
   "id": "a0eb18d9",
   "metadata": {},
   "outputs": [],
   "source": [
    "# 5-krotna walidacja krzyżowa dla CNN\n",
    "cnn_accuracies = []\n",
    "skf = StratifiedKFold(n_splits=5, shuffle=True, random_state=42)\n",
    "X_images = np.array(X_images)\n",
    "\n"
   ]
  },
  {
   "cell_type": "code",
   "execution_count": 84,
   "id": "9687451d",
   "metadata": {},
   "outputs": [
    {
     "name": "stdout",
     "output_type": "stream",
     "text": [
      "Dokładność w iteracji 1: 0.8225\n",
      "Dokładność w iteracji 2: 0.7980\n",
      "Dokładność w iteracji 3: 0.7993\n",
      "Dokładność w iteracji 4: 0.7961\n",
      "Dokładność w iteracji 5: 0.7080\n"
     ]
    }
   ],
   "source": [
    "i=1\n",
    "for train_idx, val_idx in skf.split(y_images, y_images):  # Zmiana indeksacji na y_images\n",
    "    X_train, X_val = X_images[train_idx], X_images[val_idx]\n",
    "    y_train, y_val = y_images_one_hot[train_idx], y_images_one_hot[val_idx]\n",
    "    \n",
    "    \n",
    "    cnn_model = models.Sequential([\n",
    "    layers.Conv2D(32, (3,3), activation='relu', input_shape=(70, 100, 3)),\n",
    "    layers.MaxPooling2D((2,2)),\n",
    "    layers.Conv2D(64, (3,3), activation='relu'),\n",
    "    layers.MaxPooling2D((2,2)),\n",
    "    layers.Conv2D(128, (3,3), activation='relu'),\n",
    "    layers.Flatten(),\n",
    "    layers.Dense(128, activation='relu'),\n",
    "    layers.Dense(len(np.unique(y_images)), activation='softmax')\n",
    "])\n",
    "    cnn_model.compile(optimizer='adam', loss='categorical_crossentropy', metrics=['accuracy'])\n",
    "    cnn_model.fit(X_train, y_train, epochs=10, validation_data=(X_val, y_val), batch_size=32, verbose=0)\n",
    "    \n",
    "    val_accuracy = cnn_model.evaluate(X_val, y_val, verbose=0)[1]\n",
    "    cnn_accuracies.append(val_accuracy)\n",
    "    \n",
    "    print(f\"Dokładność w iteracji {i}: {val_accuracy:.4f}\")\n",
    "    i+=1\n"
   ]
  },
  {
   "cell_type": "code",
   "execution_count": 97,
   "id": "b1d26214",
   "metadata": {},
   "outputs": [
    {
     "name": "stdout",
     "output_type": "stream",
     "text": [
      "Średnia dokładność CNN: 0.7848\n"
     ]
    }
   ],
   "source": [
    "print(f\"Średnia dokładność CNN: {np.mean(cnn_accuracies):.4f}\")"
   ]
  },
  {
   "cell_type": "code",
   "execution_count": 98,
   "id": "6bb9a115-267a-4cbc-ae4c-0110aaf9d8ed",
   "metadata": {},
   "outputs": [
    {
     "data": {
      "text/plain": [
       "0.7374461889266968"
      ]
     },
     "execution_count": 98,
     "metadata": {},
     "output_type": "execute_result"
    }
   ],
   "source": [
    "## sprawdzenie na zbiorze testowym\n",
    "\n",
    "data_path = \"Dataset_split/test\"\n",
    "data_images = []\n",
    "labels = []\n",
    "image_size=(100, 70)\n",
    "\n",
    "\n",
    "for class_folder in os.listdir(data_path):  \n",
    "    class_path = os.path.join(data_path, class_folder)\n",
    "    if os.path.isdir(class_path):  \n",
    "        for file in os.listdir(class_path):  \n",
    "            if file.lower().endswith(('.jpg', '.jpeg', '.png')):  \n",
    "                img = cv2.imread(os.path.join(class_path, file))  # Wczytanie obrazu w kolorze\n",
    "                img = cv2.cvtColor(img, cv2.COLOR_BGR2RGB)  # Konwersja z BGR do RGB\n",
    "                img = cv2.resize(img, image_size)\n",
    "                data_images.append(img)\n",
    "                labels.append(class_folder)\n",
    "X_images = np.array(data_images) / 255.0  # Normalizacja\n",
    "\n",
    "label_encoder_images = LabelEncoder()\n",
    "y_images = label_encoder_images.fit_transform(labels)\n",
    "y_images_one_hot = to_categorical(y_images)\n",
    "\n",
    "\n",
    "cnn_model.evaluate(X_images, y_images_one_hot, verbose=0)[1]"
   ]
  },
  {
   "cell_type": "code",
   "execution_count": null,
   "id": "75545ad1-c125-4bdb-a63c-d7ed5d8214be",
   "metadata": {},
   "outputs": [],
   "source": []
  },
  {
   "cell_type": "code",
   "execution_count": null,
   "id": "89a1c54a-af84-48ee-b2df-b0d1209f4133",
   "metadata": {},
   "outputs": [],
   "source": []
  }
 ],
 "metadata": {
  "kernelspec": {
   "display_name": "Python 3 (ipykernel)",
   "language": "python",
   "name": "python3"
  },
  "language_info": {
   "codemirror_mode": {
    "name": "ipython",
    "version": 3
   },
   "file_extension": ".py",
   "mimetype": "text/x-python",
   "name": "python",
   "nbconvert_exporter": "python",
   "pygments_lexer": "ipython3",
   "version": "3.11.5"
  }
 },
 "nbformat": 4,
 "nbformat_minor": 5
}
